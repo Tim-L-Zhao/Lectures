{
 "cells": [
  {
   "cell_type": "markdown",
   "metadata": {},
   "source": [
    "# Lecture 2, Solving ODE's\n",
    "\n",
    "There are a number of question marks \"?\" throughout the markdown section of this notebook. You are responsible for filling those sections in. \n",
    "\n",
    "**Overview:**\n",
    "* Solving initial value problems, a simple example\n",
    "* Survey of methods.\n",
    "* Errors and numerical stability\n",
    "    * Reading: Newman chapter 4.\n",
    "\n",
    "**Next Lecture:** Solving systems of coupled ODE's and Newtons 2nd law.\n",
    "\n",
    "---"
   ]
  },
  {
   "cell_type": "markdown",
   "metadata": {},
   "source": [
    "## Simple Example, an RC circuit. \n",
    "We have a simple RC circuit, as shown below. After a long charge with the switch in position 1 it is flipped to position 2. What is the time dependence of the charge across $C$?\n",
    "\n",
    "![RC circuit](./figs/Lecture2_circuit.png)\n",
    "\n",
    "\n",
    "\n",
    "\n",
    "\n",
    "\n",
    "\n",
    "\n",
    "\n"
   ]
  },
  {
   "cell_type": "markdown",
   "metadata": {},
   "source": [
    "Using Kirchoff's laws, determine the 1st order ODE we need to solve for $Q(t)$:\n",
    "\n",
    "$$\\frac{dQ}{dt} = ? $$\n",
    "\n",
    "What is the closed form solution of this equation:\n",
    "$$ Q(t) = ? $$"
   ]
  },
  {
   "cell_type": "markdown",
   "metadata": {},
   "source": [
    "In this case the problem was easy to solve. However, there are many cases of such problems, formulated as ordinary differential equations, where the solution is not so easy (or even impossible) to find. So how might we approximate the solution to this problem and solve numerically?\n",
    "\n",
    "An obvious thing to try is to Taylor expand $Q(t)$ for small $\\Delta t$ around $t=0$\n",
    "\n",
    "$$ Q(\\Delta t) = Q(0) + \\frac{dQ}{dt}\\Delta t + \\frac{1}{2}\\frac{d^2Q}{dt^2}(\\Delta t)^2 + \\dots $$\n",
    "\n",
    "If $\\Delta t$ is very small, then it is usually a good approximation to ignore terms that involve second and higher powers of $\\Delta t$\n",
    "\n",
    "$$ Q(\\Delta t) \\approx Q(0) + \\frac{dQ}{dt}\\Delta t$$\n",
    "\n",
    "and we know the functional form of the derivative. It is given by the original ODE! We now have:\n",
    "\n",
    "$$ Q(t + \\Delta t) \\approx Q(t) - ?? \\Delta t $$\n",
    "\n",
    "This is the general strategy for solving ODE's on a computer. By Taylor expanding we have taken a problem defined on a continuous variable $t$, and transformed it to an approximate problem defined on a discrete variable $\\Delta t$. This is always necessary since computers only operate on discrete quantities.\n",
    "\n",
    "---"
   ]
  },
  {
   "cell_type": "markdown",
   "metadata": {},
   "source": [
    "## Methods for ODE's\n",
    "\n",
    "To understand our approximate methods, we work with a single ordinary differential equation.\n",
    "$$\\frac{dx}{dt}=g(x,t)$$\n",
    "where $x(t)$ is the solution we seek and $g(x,t)$ is a well-behaved but otherwise arbitrary function.\n",
    "\n",
    "If we know $x(t)$ we could determine $g(t+\\Delta t)$ from the Taylor series:\n",
    "$$x(t+\\Delta t) = x(t) + \\frac{dx}{dt}\\Delta t + \\frac{d^2x}{dt^2}\\frac{(\\Delta t)^2}{2!} + \\frac{d^3x}{dt^3}\\frac{\\Delta t^2}{3!} + \\dots$$\n",
    "\n",
    "## Euler's method\n",
    "\n",
    "$$x(t_{n+1}) = x(t_{n}) + g(x_n,t_n)\\Delta t +O[(\\Delta t)^2].$$\n",
    "\n",
    "where $x_n$ is the the value of our solution at time point $t_n$ and discrete step $n$."
   ]
  },
  {
   "cell_type": "markdown",
   "metadata": {},
   "source": [
    "## Improved accuracy: Runge-Kutta methods\n",
    "\n",
    "### RK2:\n",
    "\n",
    "$$\n",
    "\\begin{align}\n",
    "k_1 &= \\Delta t g(x_n, t_n)\\\\\n",
    "k_2 &= \\Delta t g(x_n+1/2k_1, t_n+\\Delta t/2)\\\\\n",
    "x(t_{n+1}) &= x(t_n) + k_2\n",
    "\\end{align}\n",
    "$$\n",
    "\n",
    "\n",
    "### RK4:\n",
    "\n",
    "$$\n",
    "\\begin{align}\n",
    "k_1 &= \\Delta t g(x_n, t_n)\\\\\n",
    "k_2 &= \\Delta t g(x_n+1/2k_1, t_n+\\Delta t/2)\\\\\n",
    "k_3 &= \\Delta t g(x_n+1/2k_2, t_n+\\Delta t/2)\\\\\n",
    "k_4 &= \\Delta t g(x_n+k_3, t_n+\\Delta t)\\\\\n",
    "x(t_{n+1}) &= x(t_n) + \\frac{1}{6}(k_1+2k_2+2k_3+k_4)\n",
    "\\end{align}\n",
    "$$"
   ]
  },
  {
   "cell_type": "markdown",
   "metadata": {},
   "source": [
    "***\n",
    "## Pseudocode (for all methods):\n",
    "### Initialization\n",
    "* Assign initial values and constants: $x\\left(0\\right)$, $\\Delta t$, any constants in $g(x,t)$.\n",
    "* Set the number of time steps and the initial value of time.\n",
    "\n",
    "### Calculation\n",
    "* At time step $x_i$, calculate $x_{i+1}$ and $t_{i+1}$ at step $i+1$.\n",
    "* Increase to $t_i$ to the next time step $t_{i+1} = t_i + \\Delta t$.\n",
    "* repeat for $n-1$ time steps.\n",
    "\n",
    "### Analysis\n",
    "* store the values for $x_i$ and $t_i$ in a file. \n",
    "* plot results or use in subsequent calculation.\n",
    "\n",
    "***"
   ]
  },
  {
   "cell_type": "markdown",
   "metadata": {},
   "source": [
    "# Exercise\n",
    "\n",
    "1. Define a function for the exact solution of our simple RC circuit, $Q(t)$. This will be used to test the accuracy of our numerical methods. Plot $Q(t)$ for a fixed $RC$.\n",
    "\n",
    "2. Define another function to find the solution of our differential equation numerically using an RK2 method.\n",
    "\n",
    "3. Using the functions in 1 and 2, plot the exact and approximate solutions over-top of each other for the range of time from $t$ = 0 to 10, and using the parameters: $R=1$, $C=1$, $Q_0=1$, and $\\Delta t$ = 0.1 .\n",
    "\n",
    "4. Finally, create a function to calculate and then plot the total cumulative error of our approximate solution as a function of the step size $\\Delta t$ from $\\Delta t$ = 0.001 to 10 over a time from $t$ = 0 to 10. How does this plot change with increasing final time?\n",
    "\n",
    "\n",
    "\n",
    "**You will find some starter code in the cells below**\n"
   ]
  },
  {
   "cell_type": "code",
   "execution_count": 89,
   "metadata": {},
   "outputs": [],
   "source": [
    "# it is good practice to include all import statements in the first code cell at the top of your workbook or script.\n",
    "import numpy as np\n",
    "import matplotlib.pyplot as plt\n",
    "import math\n",
    "\n",
    "# this is a so called \"magic\" function that allows for interactive plotting, \n",
    "# you will see below when we plot the results\n",
    "#%matplotlib notebook\n",
    "%matplotlib inline "
   ]
  },
  {
   "cell_type": "code",
   "execution_count": 57,
   "metadata": {},
   "outputs": [],
   "source": [
    "#  Modify this function to output the exact solution for Q(t) from above\n",
    "# Q0 and t0 are the initial charge and time\n",
    "\n",
    "# Note the default argument for t0 = 0. Using this means we only have to pass a value for t0 to the function\n",
    "# if we want something different from 0\n",
    "\n",
    "def exact(t, R, C, Q0, t0 =0.0):\n",
    "    # !!!!!!!!!!!!!!!!!!!!!!!!!!!!!!!! exact solution here  !!!!!!!!!!!!!!!!!!!!!!!!!!!!!\n",
    "    Q = Q0*np.exp(-(t-t0)/R/C)\n",
    "    return Q"
   ]
  },
  {
   "cell_type": "code",
   "execution_count": 90,
   "metadata": {},
   "outputs": [],
   "source": [
    "# Modify this function to implement an RK2 method for our RC circuit ODE\n",
    "\n",
    "# note the template here is for one way to do this, and not necessarily the best way.\n",
    "# I encourage you to try and think of a better and more general way to write this Euler method function.\n",
    "\n",
    "def approx_rk2(dt, t_final, R, C, Q0, t0=0.0):\n",
    "    \n",
    "    #initialize some empty lists to store our data and time steps\n",
    "    Q_list = []\n",
    "    t_list = []\n",
    "    \n",
    "    # number of time steps, nust be an integer\n",
    "    n  = math.ceil(t_final/dt) \n",
    "    \n",
    "    # the main loop over all time steps\n",
    "    for ii in range(n):\n",
    "        if ii == 0.0:\n",
    "            # set initial conditions at time zero\n",
    "            Q = Q0\n",
    "            t = t0\n",
    "        else :\n",
    "            # !!!!!!!!!!!!!!!!!!!!!!   RK2 method here  !!!!!!!!!!!!!!!!!!!!!!!!!!!!!!!!\n",
    "            \n",
    "            k1 = dt*(-Q_list[ii-1]/R/C)\n",
    "            k2 = dt*(-(Q_list[ii-1]+0.5*k1)/R/C)\n",
    "            \n",
    "            # update value of Q at each time step and step time by dt\n",
    "            Q+=k2\n",
    "            t+=dt\n",
    "            \n",
    "            \n",
    "        # use append to add on to the end of a list\n",
    "        Q_list.append(Q)\n",
    "        t_list.append(t)\n",
    "    \n",
    "    # we turn the lists into numpy arrays before returning\n",
    "    \n",
    "    Q_list = np.array(Q_list)\n",
    "    t_list = np.array(t_list)\n",
    "    \n",
    "    return t_list, Q_list"
   ]
  },
  {
   "cell_type": "code",
   "execution_count": 91,
   "metadata": {},
   "outputs": [
    {
     "name": "stdout",
     "output_type": "stream",
     "text": [
      "10000\n",
      "100 100\n"
     ]
    }
   ],
   "source": [
    "# Define our constants\n",
    "Q0, t0 = 10,0.0\n",
    "t_final, dt = 10, 0.1\n",
    "R, C = 1, 1 \n",
    "\n",
    "#create an array with 1000 equally spaced points spanning t0 to _final to pass to our exact expression\n",
    "t = np.linspace(t0,t_final,10000) \n",
    "\n",
    "# Calculate the exact solution\n",
    "Q_exact = exact(t,R,C,Q0,t0)\n",
    "print(len(Q_exact))\n",
    "\n",
    "#Call our  approximate function, this returns function values and time points \n",
    "t_approx, Q_approx = approx_rk2(dt, t_final, R, C, Q0, t0)\n",
    "print(len(t_approx),len(Q_approx))"
   ]
  },
  {
   "cell_type": "code",
   "execution_count": 92,
   "metadata": {},
   "outputs": [
    {
     "data": {
      "image/png": "[encoded data removed]",
      "text/plain": [
       "<Figure size 432x288 with 1 Axes>"
      ]
     },
     "metadata": {
      "needs_background": "light"
     },
     "output_type": "display_data"
    }
   ],
   "source": [
    "# Generate plots \n",
    "fig = plt.figure()\n",
    "ax = fig.add_subplot(111)\n",
    "ax.plot(t, Q_exact, linestyle = '-', label = \"exact\")\n",
    "\n",
    "# plot approximate solution (use discrete points with no connecting line)\n",
    "ax.scatter(t_approx,Q_approx,label='approx',color='r')\n",
    "\n",
    "plt.legend()\n",
    "plt.xlabel(\"time (units)\")\n",
    "plt.ylabel(\"Capacitor charge (units)\")\n",
    "plt.show()"
   ]
  },
  {
   "cell_type": "code",
   "execution_count": 93,
   "metadata": {},
   "outputs": [],
   "source": [
    "# Write a function to calculate the cumulative error\n",
    "# hint, try reading the help file on np.sum\n",
    "def cumulative_error(dt, t_final, R, C, Q0, t0):\n",
    "    t_approx, Q_approx = approx_rk2(dt, t_final, R, C, Q0, t0)\n",
    "    t=np.arange(t0,t_final,dt)\n",
    "    Q_exact = exact(t,R,C,Q0,t0)\n",
    "    error=np.sum(abs(Q_approx-Q_exact))\n",
    "    # error = abs(approximate - exact)\n",
    "    return error"
   ]
  },
  {
   "cell_type": "code",
   "execution_count": 102,
   "metadata": {},
   "outputs": [
    {
     "data": {
      "image/png": "[encoded data removed]",
      "text/plain": [
       "<Figure size 432x288 with 1 Axes>"
      ]
     },
     "metadata": {
      "needs_background": "light"
     },
     "output_type": "display_data"
    }
   ],
   "source": [
    "## plot error v dt\n",
    "error_list=[]\n",
    "for tau in np.linspace(0.001,10,10000):\n",
    "    error_list.append(cumulative_error(tau,10,1,1,10,0))\n",
    "plt.plot(np.linspace(0.001,10,10000),error_list)\n",
    "plt.show()"
   ]
  },
  {
   "cell_type": "code",
   "execution_count": null,
   "metadata": {},
   "outputs": [],
   "source": []
  }
 ],
 "metadata": {
  "kernelspec": {
   "display_name": "Python 3",
   "language": "python",
   "name": "phys1600"
  },
  "language_info": {
   "codemirror_mode": {
    "name": "ipython",
    "version": 3
   },
   "file_extension": ".py",
   "mimetype": "text/x-python",
   "name": "python",
   "nbconvert_exporter": "python",
   "pygments_lexer": "ipython3",
   "version": "3.8.6"
  }
 },
 "nbformat": 4,
 "nbformat_minor": 4
}
