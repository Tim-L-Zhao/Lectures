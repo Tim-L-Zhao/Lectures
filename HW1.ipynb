{
 "cells": [
  {
   "cell_type": "markdown",
   "id": "intense-thriller",
   "metadata": {},
   "source": [
    "# PHYS 1600 HW1\n",
    "Tim Zhao, B01307256, Feb 10, 2021"
   ]
  },
  {
   "cell_type": "code",
   "execution_count": 2,
   "id": "sealed-queensland",
   "metadata": {},
   "outputs": [],
   "source": [
    "import numpy as np\n",
    "from scipy import integrate\n",
    "import matplotlib.pyplot as plt"
   ]
  },
  {
   "cell_type": "markdown",
   "id": "durable-biodiversity",
   "metadata": {},
   "source": [
    "## #1 \n",
    "The Debye model of a solid is used to estimate the contribution of atomic vibrations (phonons) to the specific heat capacity. In the Debye model, the specific heat capacity of a solid is given by the following integral expression: \n",
    "$C_v=9k_B\\bigg(\\frac{T}{\\theta_D}\\bigg)\\int_{0}^{\\theta_D/T} \\frac{x^4e^x}{(e^x-1)^2}dx$ \n",
    "where kB is Boltzmann’s constant and θD is the Debye temperature, a property of solids that depends on their density and atomic bonding strength."
   ]
  },
  {
   "cell_type": "markdown",
   "id": "tender-tourist",
   "metadata": {},
   "source": [
    "a) Write a Python function to calculate $C_V$ for a given material and temperature. Your program should take the density, sample volume, Debye Temperature, temperature upper limit, and required accuracy as inputs, and output the heat capacity between $T = 0$ and the upper temperature limit. Use an adaptive Simpson’s rule to evaluate the integral to the required accuracy."
   ]
  },
  {
   "cell_type": "code",
   "execution_count": 3,
   "id": "western-vitamin",
   "metadata": {},
   "outputs": [],
   "source": [
    "def adapt_simp(f, start, stop, accuracy, args=None):\n",
    "    \"\"\"\n",
    "    f - function to integrate\n",
    "    start - lower limit\n",
    "    stop - upper limit\n",
    "    accuracy - desired error range\n",
    "    args - args passed to f, optional\n",
    "    \"\"\"\n",
    "    \n",
    "    #set initial h and error\n",
    "    h = 0.1\n",
    "    error = 100\n",
    "    \n",
    "    #find S0 w/ simpsons\n",
    "    x_list = np.arange(start,stop+h,h)\n",
    "    S = (1/3)*(f(start,*args)+f(stop,*args)+2*f(x_list[2:-2:2],*args).sum())\n",
    "    T = (2/3)* f(x_list[1:-1:2],*args).sum()\n",
    "    F_current = h*(S+2*T)\n",
    "\n",
    "    while error > accuracy:\n",
    "        F_last = F_current\n",
    "        #half step size\n",
    "        h /= 2\n",
    "        x_list = np.arange(start,stop+h,h)\n",
    "        \n",
    "        #adaptive simpson\n",
    "        S += T\n",
    "        T = (2/3)* f(x_list[1:-1:2],*args).sum()\n",
    "\n",
    "        F_current = h*(S+2*T)\n",
    "        \n",
    "        #check error\n",
    "        error = abs((1/15)*(F_current-F_last))\n",
    "    \n",
    "    return (F_last, error)"
   ]
  },
  {
   "cell_type": "code",
   "execution_count": 5,
   "id": "tracked-halloween",
   "metadata": {},
   "outputs": [
    {
     "name": "stdout",
     "output_type": "stream",
     "text": [
      "scipy 25.2736222712825\n",
      "mine (25.274130627494436, 3.005787358271543e-07)\n"
     ]
    }
   ],
   "source": [
    "\"\"\" \n",
    "#testing adaptive simpson w/ 1b.\n",
    "def integrant(x,):\n",
    "    g=(x**4*np.exp(x))/(np.exp(x)-1)**2\n",
    "    return g\n",
    "\n",
    "start = 0.001\n",
    "stop = 10\n",
    "x_list = np.arange(start, stop, 0.0001)\n",
    "f_list = integrant(x_list)\n",
    "actual = integrate.simpson(f_list, x_list)\n",
    "print ('scipy', actual)\n",
    "\n",
    "mine = adapt_simp(integrant, start, stop, 0.0001, args = [])\n",
    "print('mine', mine)\n",
    "\"\"\""
   ]
  },
  {
   "cell_type": "code",
   "execution_count": 19,
   "id": "excess-combining",
   "metadata": {},
   "outputs": [],
   "source": [
    "k_B=1.38 * 10**(-23)\n",
    "Avogadro = 6.02 * 10**23.\n",
    "def integrant(x):\n",
    "    #intergrant of Debye model\n",
    "    g=(x**4*np.exp(x))/(np.exp(x)-1)**2\n",
    "    return g\n",
    "\n",
    "def Debye(rho,V,molar_mass,theta_D,T_max,accuracy):\n",
    "    \"\"\"    \n",
    "    rho - density in g/cm^3\n",
    "    V - volume in cm^3\n",
    "    molar_mass - molar mass in amu, to find N\n",
    "    theta_D - Debye Temperature\n",
    "    T_max - Temperature upper limit\n",
    "    accuracy - required accuracy\n",
    "    return array of Heat Capacity between T=0 and T_max\n",
    "    \"\"\"    \n",
    "    #initialize empty lists to store data\n",
    "    Cv_list=[]\n",
    "    \n",
    "    for T in np.arange(0,T_max,0.01):\n",
    "        Cv=integrate.quad(integrant,0.001,(theta_D/T))#(rho*V)*9*k_B*Avogadro/molar_mass*(T/theta_D)**3*#adapt_simp(integrant, 0.0001,(theta_D/T), accuracy,[])[0]\n",
    "        Cv_list.append(Cv)\n",
    "    \n",
    "    return Cv_list"
   ]
  },
  {
   "cell_type": "code",
   "execution_count": 21,
   "id": "parallel-glossary",
   "metadata": {},
   "outputs": [
    {
     "name": "stderr",
     "output_type": "stream",
     "text": [
      "<ipython-input-19-34f5f7a6a0ab>:22: RuntimeWarning: divide by zero encountered in double_scalars\n",
      "  Cv=integrate.quad(integrant,0.001,(theta_D/T))#(rho*V)*9*k_B*Avogadro/molar_mass*(T/theta_D)**3*#adapt_simp(integrant, 0.0001,(theta_D/T), accuracy,[])[0]\n",
      "<ipython-input-19-34f5f7a6a0ab>:5: RuntimeWarning: overflow encountered in double_scalars\n",
      "  g=(x**4*np.exp(x))/(np.exp(x)-1)**2\n",
      "<ipython-input-19-34f5f7a6a0ab>:5: RuntimeWarning: overflow encountered in exp\n",
      "  g=(x**4*np.exp(x))/(np.exp(x)-1)**2\n",
      "<ipython-input-19-34f5f7a6a0ab>:5: RuntimeWarning: invalid value encountered in double_scalars\n",
      "  g=(x**4*np.exp(x))/(np.exp(x)-1)**2\n",
      "<ipython-input-19-34f5f7a6a0ab>:22: IntegrationWarning: The occurrence of roundoff error is detected, which prevents \n",
      "  the requested tolerance from being achieved.  The error may be \n",
      "  underestimated.\n",
      "  Cv=integrate.quad(integrant,0.001,(theta_D/T))#(rho*V)*9*k_B*Avogadro/molar_mass*(T/theta_D)**3*#adapt_simp(integrant, 0.0001,(theta_D/T), accuracy,[])[0]\n",
      "<ipython-input-19-34f5f7a6a0ab>:22: IntegrationWarning: The maximum number of subdivisions (50) has been achieved.\n",
      "  If increasing the limit yields no improvement it is advised to analyze \n",
      "  the integrand in order to determine the difficulties.  If the position of a \n",
      "  local difficulty can be determined (singularity, discontinuity) one will \n",
      "  probably gain from splitting up the interval and calling the integrator \n",
      "  on the subranges.  Perhaps a special-purpose integrator should be used.\n",
      "  Cv=integrate.quad(integrant,0.001,(theta_D/T))#(rho*V)*9*k_B*Avogadro/molar_mass*(T/theta_D)**3*#adapt_simp(integrant, 0.0001,(theta_D/T), accuracy,[])[0]\n"
     ]
    },
    {
     "data": {
      "image/png": "[encoded data removed]",
      "text/plain": [
       "<Figure size 432x288 with 1 Axes>"
      ]
     },
     "metadata": {
      "needs_background": "light"
     },
     "output_type": "display_data"
    },
    {
     "name": "stdout",
     "output_type": "stream",
     "text": [
      "1\n"
     ]
    }
   ],
   "source": [
    "density=1\n",
    "T_max=1\n",
    "T_list=np.arange(0,T_max,0.01)\n",
    "accuracy=0.01\n",
    "\n",
    "Pb_rho=11.35\n",
    "Pb_molar_mass=207.2\n",
    "Pb_theta_D=105\n",
    "Pb_Debye=Debye(Pb_rho, density, Pb_molar_mass,Pb_theta_D, T_max, accuracy)\n",
    "plt.plot(T_list,Pb_Debye,label='Pb')\n",
    "\n",
    "#Al_Debye=Debye(2.7,1,428,2000,0.0000001)\n",
    "#diamond_Debye=Debye(3.51,1,2230,2000,0.0000001)\n",
    "#print(Pb_Debye)\n",
    "\n",
    "#plt.plot(Al_Debye,label='Al')\n",
    "#plt.plot(Diamond_Debye,label='Diamond')\n",
    "plt.show()\n",
    "print('1')"
   ]
  },
  {
   "cell_type": "code",
   "execution_count": 26,
   "id": "perceived-century",
   "metadata": {},
   "outputs": [],
   "source": [
    "#General ODE solver with Runge-Kutta 4\n",
    "def RK4(f,t0,t_f,dt,x0, args=None):\n",
    "    \"\"\"\n",
    "    f - a function, takes 2 variables (t,x), RHS of ODE\n",
    "    t0 - lower limit of independent variable\n",
    "    t_f - upper limit of independent variable\n",
    "    dt - step size\n",
    "    x0 - initial value \n",
    "    return - array of t and x\n",
    "    \"\"\"\n",
    "    \n",
    "    # number of time steps, n must be an integer\n",
    "    n  = int(np.ceil((t_f-t0)/dt))\n",
    "    \n",
    "    # create empty lists to store values\n",
    "    x_list=np.zeros(n, np.longdouble)\n",
    "    t_list=np.zeros(x_list.size)\n",
    "    \n",
    "    # set initial conditions at time zero\n",
    "    x_list[0] = x0\n",
    "    t_list[0] = t0\n",
    "    \n",
    "    # RK4\n",
    "    for ii in range(n-1):\n",
    "            k1 = dt*f(x_list[ii],t_list[ii],*args)\n",
    "            k2 = dt*f(x_list[ii]+0.5*k1,t_list[ii]+dt/2,*args)\n",
    "            k3 = dt*f(x_list[ii]+0.5*k2,t_list[ii]+dt/2,*args)\n",
    "            k4 = dt*f(x_list[ii]+0.5*k3,t_list[ii]+dt/2,*args)\n",
    "            \n",
    "            # update value of Q at each time step and step time by dt\n",
    "            x_list[ii+1]=x_list[ii]+(k1+2*k2+2*k3+k4)/6\n",
    "            t_list[ii+1]=t_list[ii]+dt\n",
    "            \n",
    "    return t_list, x_list"
   ]
  },
  {
   "cell_type": "markdown",
   "id": "anticipated-salmon",
   "metadata": {},
   "source": [
    "# #2\n",
    "A simple electronic circuit with a resistor and capacitor is shown below.\n",
    "A voltage is sent into the circuit on the left at $V_{in}$ and read out on the right at $V_{out}$."
   ]
  },
  {
   "cell_type": "markdown",
   "id": "imperial-nepal",
   "metadata": {},
   "source": [
    "a)Find the 1st order ordinary differential equation governing $V_{out}(t)$. Assume the output load impedance is infinite so that no current flows through it. Your equation should relate $dV_{out}/dt$ to $R$, $C$, and $V_{in} − V_{out}$.\n"
   ]
  },
  {
   "cell_type": "markdown",
   "id": "integrated-resolution",
   "metadata": {},
   "source": [
    "\n",
    "$\\frac{dQ}{dt}=I=\\frac{V_{in}-V_{out}}{R}$\n",
    "\n",
    "$V_{out}=\\frac{Q}{C}$\n",
    "\n",
    "$\\frac{dQ}{dt}=\\frac{d}{dt}V_{out}C$\n",
    "\n",
    "$\\frac{d}{dt}V_{out}=\\frac{V_{in}-V_{out}}{RC}$"
   ]
  },
  {
   "cell_type": "markdown",
   "id": "painted-checkout",
   "metadata": {},
   "source": [
    "b) Use your RK4 integrator to solve the equation from (a) for a square wave input signal, with frequency 1 and amplitude 1. Make plots of Vout(t) from t = 0 to t = 10 when RC = 0.01, 0.1, and 1, with initial condition Vout(0) = 0. Be careful to select an appropriate time step size for your solution in each case."
   ]
  },
  {
   "cell_type": "code",
   "execution_count": 32,
   "id": "starting-impact",
   "metadata": {},
   "outputs": [],
   "source": [
    "#make sqaure wave\n",
    "from scipy import signal\n",
    "\n",
    "def circuit(V_out, t, RC):\n",
    "    V_in = signal.square(2 * np.pi * t)\n",
    "    return (V_in-V_out)/RC\n",
    "\n",
    "T,RC1 = RK4(circuit, 0, 10, 0.001,0,[1])\n",
    "#RC01 = RK4(circuit, 0.1,  0, 1, 0)\n",
    "#RC001 = RK4(circuit, 0.01, 0, 10, 0)"
   ]
  },
  {
   "cell_type": "markdown",
   "id": "behavioral-grocery",
   "metadata": {},
   "source": [
    "# #3"
   ]
  },
  {
   "cell_type": "markdown",
   "id": "graphic-landscape",
   "metadata": {},
   "source": [
    "Consider a radioactive decay involving two distinct types of nuclei, A and B, with populations NA(t) and NB(t). Suppose that the type A nuclei decay to form type B nuclei which decay in turn according to the differential equations\n",
    "\n",
    "$\\frac{dN_A}{dt}=-\\frac{N_A}{\\tau_A}$\n",
    "\n",
    "$\\frac{dN_B}{dt}=\\frac{N_A}{\\tau_A}-\\frac{N_B}{\\tau_B}$\n",
    "\n",
    "where τA and τB are the decay time constants for each type of nucleus."
   ]
  },
  {
   "cell_type": "markdown",
   "id": "clean-reference",
   "metadata": {},
   "source": [
    "a) Use your RK4 integrator to numerically find the solution of these coupled equations for NA and NB as functions of time."
   ]
  },
  {
   "cell_type": "code",
   "execution_count": 84,
   "id": "answering-meaning",
   "metadata": {},
   "outputs": [
    {
     "data": {
      "image/png": "[encoded data removed]",
      "text/plain": [
       "<Figure size 432x288 with 1 Axes>"
      ]
     },
     "metadata": {
      "needs_background": "light"
     },
     "output_type": "display_data"
    }
   ],
   "source": [
    "#define the 2 ODE\n",
    "def fA(NA,t,tA):\n",
    "    return -NA/tA\n",
    "\n",
    "def fB(NB,t,tA,NA,tB):\n",
    "    return (NA/tA)-(NB/tB)\n",
    "\n",
    "#set constants and time range\n",
    "tA=3\n",
    "A0=100\n",
    "tB=1\n",
    "B0=0\n",
    "t0=0\n",
    "t_f=10\n",
    "dt=0.01\n",
    "\n",
    "#SOLVE coupled ODE\n",
    "#number of time steps, n must be an integer\n",
    "n  = int(np.ceil((t_f-t0)/dt)) \n",
    "\n",
    "# create empty lists to store values\n",
    "A_list=np.zeros(n, np.longdouble)\n",
    "B_list=np.zeros(A_list.size,np.longdouble)\n",
    "t_list=np.zeros(A_list.size,np.longdouble)\n",
    "    \n",
    "# set initial conditions at time zero\n",
    "A_list[0] = A0\n",
    "B_list[0] = B0\n",
    "t_list[0] = t0\n",
    "\n",
    "# RK4\n",
    "for ii in range(n-1): \n",
    "    \n",
    "    #particle A\n",
    "    A_k1 = dt*fA(A_list[ii],t_list[ii],tA)\n",
    "    A_k2 = dt*fA(A_list[ii]+0.5*A_k1,t_list[ii]+dt/2,tA)\n",
    "    A_k3 = dt*fA(A_list[ii]+0.5*A_k2,t_list[ii]+dt/2,tA)     \n",
    "    A_k4 = dt*fA(A_list[ii]+0.5*A_k3,t_list[ii]+dt/2,tA)\n",
    "    A_list[ii+1]=A_list[ii]+(A_k1+2*A_k2+2*A_k3+A_k4)/6   \n",
    " \n",
    "    #particle B \n",
    "    B_k1 = dt*fB(B_list[ii],t_list[ii],tA,A_list[ii],tB )\n",
    "    B_k2 = dt*fB(B_list[ii]+0.5*B_k1,t_list[ii]+dt/2,tA,A_list[ii],tB)\n",
    "    B_k3 = dt*fB(B_list[ii]+0.5*B_k2,t_list[ii]+dt/2,tA,A_list[ii],tB)     \n",
    "    B_k4 = dt*fB(B_list[ii]+0.5*B_k3,t_list[ii]+dt/2,tA,A_list[ii],tB)\n",
    "    B_list[ii+1]=B_list[ii]+(B_k1+2*B_k2+2*B_k3+B_k4)/6\n",
    " \n",
    "    #update time\n",
    "    t_list[ii+1]=t_list[ii]+dt\n",
    "            \n",
    "plt.plot(t_list,A_list,label='A')\n",
    "plt.plot(t_list,B_list,label='B')\n",
    "plt.legend()\n",
    "plt.show()"
   ]
  },
  {
   "cell_type": "markdown",
   "id": "amber-parts",
   "metadata": {},
   "source": [
    "b) Find the analytic solution for NA(t) and NB(t) and compare with your numeric results. How accurate is your numeric solution?\n",
    "see below"
   ]
  },
  {
   "cell_type": "code",
   "execution_count": 85,
   "id": "stopped-buyer",
   "metadata": {},
   "outputs": [
    {
     "data": {
      "image/png": "[encoded data removed]",
      "text/plain": [
       "<Figure size 432x288 with 1 Axes>"
      ]
     },
     "metadata": {
      "needs_background": "light"
     },
     "output_type": "display_data"
    }
   ],
   "source": [
    "#explicit solution\n",
    "def NA(t,A0,tA):\n",
    "    return A0*np.exp(-t/tA)\n",
    "\n",
    "def NB(t,A0,tA,B0,tB):\n",
    "    return (A0*tB)/(tA-tB)*np.exp(-t/tA)+(B0+(A0*tB/(tB-tA)))*np.exp(-t/tB)\n",
    "\n",
    "t_list = np.arange(t0,t_f,dt)\n",
    "A =[]\n",
    "B =[]\n",
    "\n",
    "for t in t_list:\n",
    "    A.append(NA(t, A0, tA))\n",
    "    B.append(NB(t,A0,tA,B0,tB))\n",
    "\n",
    "#compare RK4 and explicit solution\n",
    "plt.plot(t_list,A,label='explicit A')\n",
    "plt.plot(t_list,B, label='explicit B')\n",
    "plt.plot(t_list,A_list,linestyle=':',label='RK4 A')\n",
    "plt.plot(t_list,B_list, linestyle=':',label='RK4 B')\n",
    "plt.legend()\n",
    "plt.show()"
   ]
  },
  {
   "cell_type": "markdown",
   "id": "dramatic-dream",
   "metadata": {},
   "source": [
    "c) Explore the behavior for different values of the ratio $\\tau_A/\\tau_B$ and find the important limits of $\\tau_A/\\tau_B$."
   ]
  },
  {
   "cell_type": "code",
   "execution_count": null,
   "id": "premium-wyoming",
   "metadata": {},
   "outputs": [],
   "source": []
  }
 ],
 "metadata": {
  "kernelspec": {
   "display_name": "Python 3",
   "language": "python",
   "name": "phys1600"
  },
  "language_info": {
   "codemirror_mode": {
    "name": "ipython",
    "version": 3
   },
   "file_extension": ".py",
   "mimetype": "text/x-python",
   "name": "python",
   "nbconvert_exporter": "python",
   "pygments_lexer": "ipython3",
   "version": "3.8.6"
  }
 },
 "nbformat": 4,
 "nbformat_minor": 5
}
