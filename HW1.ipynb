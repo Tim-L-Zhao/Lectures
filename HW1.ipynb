{
 "cells": [
  {
   "cell_type": "markdown",
   "id": "brutal-chick",
   "metadata": {},
   "source": [
    "# PHYS 1600 HW1\n",
    "Tim Zhao, B01307256, Feb 10, 2021"
   ]
  },
  {
   "cell_type": "code",
   "execution_count": 49,
   "id": "hungry-utilization",
   "metadata": {},
   "outputs": [],
   "source": [
    "import numpy as np\n",
    "from scipy import integrate\n",
    "import matplotlib.pyplot as plt"
   ]
  },
  {
   "cell_type": "markdown",
   "id": "irish-aquarium",
   "metadata": {},
   "source": [
    "## #1 \n",
    "The Debye model of a solid is used to estimate the contribution of atomic vibrations (phonons) to the specific heat capacity. In the Debye model, the specific heat capacity of a solid is given by the following integral expression: \n",
    "$C_v=9k_B\\bigg(\\frac{T}{\\theta_D}\\bigg)\\int_{0}^{\\theta_D/T} \\frac{x^4e^x}{(e^x-1)^2}dx$ \n",
    "where kB is Boltzmann’s constant and θD is the Debye temperature, a property of solids that depends on their density and atomic bonding strength."
   ]
  },
  {
   "cell_type": "markdown",
   "id": "joint-glasgow",
   "metadata": {},
   "source": [
    "a) Write a Python function to calculate $C_V$ for a given material and temperature. Your program should take the density, sample volume, Debye Temperature, temperature upper limit, and required accuracy as inputs, and output the heat capacity between $T = 0$ and the upper temperature limit. Use an adaptive Simpson’s rule to evaluate the integral to the required accuracy."
   ]
  },
  {
   "cell_type": "code",
   "execution_count": 50,
   "id": "instructional-silver",
   "metadata": {},
   "outputs": [],
   "source": [
    "def adapt_simp(f, start, stop, accuracy, args=None):\n",
    "    \"\"\"\n",
    "    f - function to integrate\n",
    "    start - lower limit\n",
    "    stop - upper limit\n",
    "    accuracy - desired error range\n",
    "    \"\"\"\n",
    "    \n",
    "    #set initial h and error\n",
    "    h = 0.1\n",
    "    error = 100\n",
    "    \n",
    "    #find S0 w/ simpsons\n",
    "    x_list = np.arange(start,stop+h,h)\n",
    "    S = (1/3)*(f(start,*args)+f(stop,*args)+2*f(x_list[2:-2:2],*args).sum())\n",
    "    T = (2/3)* f(x_list[1:-1:2],*args).sum()\n",
    "    F_current = h*(S+2*T)\n",
    "\n",
    "    while error > accuracy:\n",
    "        F_last = F_current\n",
    "        #half step size\n",
    "        h /= 2\n",
    "        x_list = np.arange(start,stop+h,h)\n",
    "        \n",
    "        #adaptive simpson\n",
    "        S += T\n",
    "        T = (2/3)* f(x_list[1:-1:2],*args).sum()\n",
    "\n",
    "        F_current = h*(S+2*T)\n",
    "        \n",
    "        #check error\n",
    "        error = abs((1/15)*(F_current-F_last))\n",
    "    \n",
    "    return (F_last, error)"
   ]
  },
  {
   "cell_type": "code",
   "execution_count": 51,
   "id": "active-campus",
   "metadata": {
    "jupyter": {
     "source_hidden": true
    }
   },
   "outputs": [
    {
     "data": {
      "text/plain": [
       "'\\n#test adaptive simpson\\ndef Gaussian(x,amp,mean,std_dev):\\n    f = amp*np.exp(-1*((x - mean)**2/(2*std_dev**2))) \\n    return f\\n\\nsimps = adapt_simp(Gaussian, -10, 10, 0.0001, args = [1,0,1])\\nprint(simps)\\n\\nscipyIntegral = integrate.quad(Gaussian, -100.0, 100.0, args = (1,0,1))\\nprint(scipyIntegral)\\n'"
      ]
     },
     "execution_count": 51,
     "metadata": {},
     "output_type": "execute_result"
    }
   ],
   "source": [
    "\"\"\"\n",
    "#test adaptive simpson\n",
    "def Gaussian(x,amp,mean,std_dev):\n",
    "    f = amp*np.exp(-1*((x - mean)**2/(2*std_dev**2))) \n",
    "    return f\n",
    "\n",
    "simps = adapt_simp(Gaussian, -10, 10, 0.0001, args = [1,0,1])\n",
    "print(simps)\n",
    "\n",
    "scipyIntegral = integrate.quad(Gaussian, -100.0, 100.0, args = (1,0,1))\n",
    "print(scipyIntegral)\n",
    "\"\"\""
   ]
  },
  {
   "cell_type": "code",
   "execution_count": 54,
   "id": "recovered-ecology",
   "metadata": {},
   "outputs": [],
   "source": [
    "k_B=1.38 * 10**(-23)\n",
    "Avogadro = 6.02 * 10**23.\n",
    "def integrant(x,a,b):\n",
    "    g=(x**a*np.exp(x))/(np.exp(x)-1)**b\n",
    "    return g\n",
    "\n",
    "def Debye(rho,V,molar_mass,theta_D,T_max,accuracy):\n",
    "    \"\"\"    \n",
    "    rho - density\n",
    "    V - volume\n",
    "    theta_D - Debye Temperature\n",
    "    T_max - Temperature upper limit\n",
    "    accu - required accuracy\n",
    "    return array of Temperature and Heat Capacity between T=0 and T_max\n",
    "    \"\"\"    \n",
    "    #initialize empty lists to store data\n",
    "    Cv_list=[]\n",
    "     \n",
    "    for T in T_list:\n",
    "        Cv=(rho*V)*9*k_B*(T/theta_D)**3*adapt_simp(integrant, 0.0001,(theta_D/T), accuracy,[4,2])[0]\n",
    "        Cv_list.append(Cv)\n",
    "    \n",
    "    return Cv_list"
   ]
  },
  {
   "cell_type": "code",
   "execution_count": 55,
   "id": "patent-sleeping",
   "metadata": {},
   "outputs": [
    {
     "name": "stderr",
     "output_type": "stream",
     "text": [
      "<ipython-input-54-562e799a0de4>:20: RuntimeWarning: divide by zero encountered in double_scalars\n",
      "  Cv=(rho*V)*9*k_B*(T/theta_D)**3*adapt_simp(integrant, 0.0001,(theta_D/T), accuracy,[4,2])[0]\n"
     ]
    },
    {
     "ename": "ValueError",
     "evalue": "Maximum allowed size exceeded",
     "output_type": "error",
     "traceback": [
      "\u001b[0;31m---------------------------------------------------------------------------\u001b[0m",
      "\u001b[0;31mValueError\u001b[0m                                Traceback (most recent call last)",
      "\u001b[0;32m<ipython-input-55-2b48ab6ada9f>\u001b[0m in \u001b[0;36m<module>\u001b[0;34m\u001b[0m\n\u001b[1;32m      7\u001b[0m \u001b[0mPb_molar_mass\u001b[0m\u001b[0;34m=\u001b[0m\u001b[0;36m207.2\u001b[0m\u001b[0;34m\u001b[0m\u001b[0;34m\u001b[0m\u001b[0m\n\u001b[1;32m      8\u001b[0m \u001b[0mPb_theta_D\u001b[0m\u001b[0;34m=\u001b[0m\u001b[0;36m105\u001b[0m\u001b[0;34m\u001b[0m\u001b[0;34m\u001b[0m\u001b[0m\n\u001b[0;32m----> 9\u001b[0;31m \u001b[0mPb_Debye\u001b[0m\u001b[0;34m=\u001b[0m\u001b[0mDebye\u001b[0m\u001b[0;34m(\u001b[0m\u001b[0mPb_rho\u001b[0m\u001b[0;34m,\u001b[0m \u001b[0mdensity\u001b[0m\u001b[0;34m,\u001b[0m \u001b[0mPb_molar_mass\u001b[0m\u001b[0;34m,\u001b[0m\u001b[0mPb_theta_D\u001b[0m\u001b[0;34m,\u001b[0m \u001b[0mT_max\u001b[0m\u001b[0;34m,\u001b[0m \u001b[0maccuracy\u001b[0m\u001b[0;34m)\u001b[0m\u001b[0;34m\u001b[0m\u001b[0;34m\u001b[0m\u001b[0m\n\u001b[0m\u001b[1;32m     10\u001b[0m \u001b[0mplt\u001b[0m\u001b[0;34m.\u001b[0m\u001b[0mplot\u001b[0m\u001b[0;34m(\u001b[0m\u001b[0mT_list\u001b[0m\u001b[0;34m,\u001b[0m\u001b[0mPb_Debye\u001b[0m\u001b[0;34m,\u001b[0m\u001b[0mlabel\u001b[0m\u001b[0;34m=\u001b[0m\u001b[0;34m'Pb'\u001b[0m\u001b[0;34m)\u001b[0m\u001b[0;34m\u001b[0m\u001b[0;34m\u001b[0m\u001b[0m\n\u001b[1;32m     11\u001b[0m \u001b[0;34m\u001b[0m\u001b[0m\n",
      "\u001b[0;32m<ipython-input-54-562e799a0de4>\u001b[0m in \u001b[0;36mDebye\u001b[0;34m(rho, V, molar_mass, theta_D, T_max, accuracy)\u001b[0m\n\u001b[1;32m     18\u001b[0m \u001b[0;34m\u001b[0m\u001b[0m\n\u001b[1;32m     19\u001b[0m     \u001b[0;32mfor\u001b[0m \u001b[0mT\u001b[0m \u001b[0;32min\u001b[0m \u001b[0mT_list\u001b[0m\u001b[0;34m:\u001b[0m\u001b[0;34m\u001b[0m\u001b[0;34m\u001b[0m\u001b[0m\n\u001b[0;32m---> 20\u001b[0;31m         \u001b[0mCv\u001b[0m\u001b[0;34m=\u001b[0m\u001b[0;34m(\u001b[0m\u001b[0mrho\u001b[0m\u001b[0;34m*\u001b[0m\u001b[0mV\u001b[0m\u001b[0;34m)\u001b[0m\u001b[0;34m*\u001b[0m\u001b[0;36m9\u001b[0m\u001b[0;34m*\u001b[0m\u001b[0mk_B\u001b[0m\u001b[0;34m*\u001b[0m\u001b[0;34m(\u001b[0m\u001b[0mT\u001b[0m\u001b[0;34m/\u001b[0m\u001b[0mtheta_D\u001b[0m\u001b[0;34m)\u001b[0m\u001b[0;34m**\u001b[0m\u001b[0;36m3\u001b[0m\u001b[0;34m*\u001b[0m\u001b[0madapt_simp\u001b[0m\u001b[0;34m(\u001b[0m\u001b[0mintegrant\u001b[0m\u001b[0;34m,\u001b[0m \u001b[0;36m0.0001\u001b[0m\u001b[0;34m,\u001b[0m\u001b[0;34m(\u001b[0m\u001b[0mtheta_D\u001b[0m\u001b[0;34m/\u001b[0m\u001b[0mT\u001b[0m\u001b[0;34m)\u001b[0m\u001b[0;34m,\u001b[0m \u001b[0maccuracy\u001b[0m\u001b[0;34m,\u001b[0m\u001b[0;34m[\u001b[0m\u001b[0;36m4\u001b[0m\u001b[0;34m,\u001b[0m\u001b[0;36m2\u001b[0m\u001b[0;34m]\u001b[0m\u001b[0;34m)\u001b[0m\u001b[0;34m[\u001b[0m\u001b[0;36m0\u001b[0m\u001b[0;34m]\u001b[0m\u001b[0;34m\u001b[0m\u001b[0;34m\u001b[0m\u001b[0m\n\u001b[0m\u001b[1;32m     21\u001b[0m         \u001b[0mCv_list\u001b[0m\u001b[0;34m.\u001b[0m\u001b[0mappend\u001b[0m\u001b[0;34m(\u001b[0m\u001b[0mCv\u001b[0m\u001b[0;34m)\u001b[0m\u001b[0;34m\u001b[0m\u001b[0;34m\u001b[0m\u001b[0m\n\u001b[1;32m     22\u001b[0m \u001b[0;34m\u001b[0m\u001b[0m\n",
      "\u001b[0;32m<ipython-input-50-34201192707b>\u001b[0m in \u001b[0;36madapt_simp\u001b[0;34m(f, start, stop, accuracy, args)\u001b[0m\n\u001b[1;32m     12\u001b[0m \u001b[0;34m\u001b[0m\u001b[0m\n\u001b[1;32m     13\u001b[0m     \u001b[0;31m#find S0 w/ simpsons\u001b[0m\u001b[0;34m\u001b[0m\u001b[0;34m\u001b[0m\u001b[0;34m\u001b[0m\u001b[0m\n\u001b[0;32m---> 14\u001b[0;31m     \u001b[0mx_list\u001b[0m \u001b[0;34m=\u001b[0m \u001b[0mnp\u001b[0m\u001b[0;34m.\u001b[0m\u001b[0marange\u001b[0m\u001b[0;34m(\u001b[0m\u001b[0mstart\u001b[0m\u001b[0;34m,\u001b[0m\u001b[0mstop\u001b[0m\u001b[0;34m+\u001b[0m\u001b[0mh\u001b[0m\u001b[0;34m,\u001b[0m\u001b[0mh\u001b[0m\u001b[0;34m)\u001b[0m\u001b[0;34m\u001b[0m\u001b[0;34m\u001b[0m\u001b[0m\n\u001b[0m\u001b[1;32m     15\u001b[0m     \u001b[0mS\u001b[0m \u001b[0;34m=\u001b[0m \u001b[0;34m(\u001b[0m\u001b[0;36m1\u001b[0m\u001b[0;34m/\u001b[0m\u001b[0;36m3\u001b[0m\u001b[0;34m)\u001b[0m\u001b[0;34m*\u001b[0m\u001b[0;34m(\u001b[0m\u001b[0mf\u001b[0m\u001b[0;34m(\u001b[0m\u001b[0mstart\u001b[0m\u001b[0;34m,\u001b[0m\u001b[0;34m*\u001b[0m\u001b[0margs\u001b[0m\u001b[0;34m)\u001b[0m\u001b[0;34m+\u001b[0m\u001b[0mf\u001b[0m\u001b[0;34m(\u001b[0m\u001b[0mstop\u001b[0m\u001b[0;34m,\u001b[0m\u001b[0;34m*\u001b[0m\u001b[0margs\u001b[0m\u001b[0;34m)\u001b[0m\u001b[0;34m+\u001b[0m\u001b[0;36m2\u001b[0m\u001b[0;34m*\u001b[0m\u001b[0mf\u001b[0m\u001b[0;34m(\u001b[0m\u001b[0mx_list\u001b[0m\u001b[0;34m[\u001b[0m\u001b[0;36m2\u001b[0m\u001b[0;34m:\u001b[0m\u001b[0;34m-\u001b[0m\u001b[0;36m2\u001b[0m\u001b[0;34m:\u001b[0m\u001b[0;36m2\u001b[0m\u001b[0;34m]\u001b[0m\u001b[0;34m,\u001b[0m\u001b[0;34m*\u001b[0m\u001b[0margs\u001b[0m\u001b[0;34m)\u001b[0m\u001b[0;34m.\u001b[0m\u001b[0msum\u001b[0m\u001b[0;34m(\u001b[0m\u001b[0;34m)\u001b[0m\u001b[0;34m)\u001b[0m\u001b[0;34m\u001b[0m\u001b[0;34m\u001b[0m\u001b[0m\n\u001b[1;32m     16\u001b[0m     \u001b[0mT\u001b[0m \u001b[0;34m=\u001b[0m \u001b[0;34m(\u001b[0m\u001b[0;36m2\u001b[0m\u001b[0;34m/\u001b[0m\u001b[0;36m3\u001b[0m\u001b[0;34m)\u001b[0m\u001b[0;34m*\u001b[0m \u001b[0mf\u001b[0m\u001b[0;34m(\u001b[0m\u001b[0mx_list\u001b[0m\u001b[0;34m[\u001b[0m\u001b[0;36m1\u001b[0m\u001b[0;34m:\u001b[0m\u001b[0;34m-\u001b[0m\u001b[0;36m1\u001b[0m\u001b[0;34m:\u001b[0m\u001b[0;36m2\u001b[0m\u001b[0;34m]\u001b[0m\u001b[0;34m,\u001b[0m\u001b[0;34m*\u001b[0m\u001b[0margs\u001b[0m\u001b[0;34m)\u001b[0m\u001b[0;34m.\u001b[0m\u001b[0msum\u001b[0m\u001b[0;34m(\u001b[0m\u001b[0;34m)\u001b[0m\u001b[0;34m\u001b[0m\u001b[0;34m\u001b[0m\u001b[0m\n",
      "\u001b[0;31mValueError\u001b[0m: Maximum allowed size exceeded"
     ]
    }
   ],
   "source": [
    "density=10**-6\n",
    "T_max=200\n",
    "T_list=np.arange(0,T_max,0.01)\n",
    "accuracy=0.01\n",
    "\n",
    "Pb_rho=11343\n",
    "Pb_molar_mass=207.2\n",
    "Pb_theta_D=105\n",
    "Pb_Debye=Debye(Pb_rho, density, Pb_molar_mass,Pb_theta_D, T_max, accuracy)\n",
    "plt.plot(T_list,Pb_Debye,label='Pb')\n",
    "\n",
    "#Al_Debye=Debye(2.7,1,428,2000,0.0000001)\n",
    "#diamond_Debye=Debye(3.51,1,2230,2000,0.0000001)\n",
    "#print(Pb_Debye)\n",
    "\n",
    "#plt.plot(Al_Debye,label='Al')\n",
    "#plt.plot(Diamond_Debye,label='Diamond')\n",
    "plt.show()\n",
    "print('1')"
   ]
  },
  {
   "cell_type": "code",
   "execution_count": 66,
   "id": "cross-metropolitan",
   "metadata": {},
   "outputs": [],
   "source": [
    "#General ODE solver with Runge-Kutta 4\n",
    "def RK4(f,t0,t_f,dt,x0,arg=None):\n",
    "    \"\"\"\n",
    "    f - a function, takes 2 variables (t,x), RHS of ODE\n",
    "    t0 - lower limit of independent variable\n",
    "    t_f - upper limit of independent variable\n",
    "    dt - step size\n",
    "    x0 - initial value \n",
    "    return - array of t and x\n",
    "    \"\"\"\n",
    "    \n",
    "    # number of time steps, n must be an integer\n",
    "    n  = int(np.ceil((t_f-t0)/dt))\n",
    "    \n",
    "    # create empty lists to store values\n",
    "    x_list=np.zeros(n, np.longdouble)\n",
    "    t_list=np.zeros(x_list.size)\n",
    "    \n",
    "    # set initial conditions at time zero\n",
    "    x_list[0] = x0\n",
    "    t_list[0] = t0\n",
    "    \n",
    "    # RK4\n",
    "    for ii in range(n-1):\n",
    "            k1 = dt*f(x_list[ii],t_list[ii],*args)\n",
    "            k2 = dt*f(x_list[ii]+0.5*k1,t_list[ii]+dt/2,*args)\n",
    "            k3 = dt*f(x_list[ii]+0.5*k2,t_list[ii]+dt/2,*args)\n",
    "            k4 = dt*f(x_list[ii]+0.5*k3,t_list[ii]+dt/2,*args)\n",
    "            \n",
    "            # update value of Q at each time step and step time by dt\n",
    "            x_list[ii+1]=x_list[ii]+(k1+2*k2+2*k3+k4)/6\n",
    "            t_list[ii+1]=t_list[ii]+dt\n",
    "            \n",
    "    return t_list, x_list"
   ]
  },
  {
   "cell_type": "markdown",
   "id": "regional-priority",
   "metadata": {},
   "source": [
    "# #2\n",
    "A simple electronic circuit with a resistor and capacitor is shown below.\n",
    "A voltage is sent into the circuit on the left at $V_{in}$ and read out on the right at $V_{out}$."
   ]
  },
  {
   "cell_type": "markdown",
   "id": "israeli-africa",
   "metadata": {},
   "source": [
    "a)Find the 1st order ordinary differential equation governing $V_{out}(t)$. Assume the output load impedance is infinite so that no current flows through it. Your equation should relate $dV_{out}/dt$ to $R$, $C$, and $V_{in} − V_{out}$.\n"
   ]
  },
  {
   "cell_type": "markdown",
   "id": "third-yacht",
   "metadata": {},
   "source": [
    "\n",
    "$\\frac{dQ}{dt}=I=\\frac{V_{in}-V_{out}}{R}$\n",
    "\n",
    "$V_{out}=\\frac{Q}{C}$\n",
    "\n",
    "$\\frac{dQ}{dt}=\\frac{d}{dt}V_{out}C$\n",
    "\n",
    "$\\frac{d}{dt}V_{out}=\\frac{V_{in}-V_{out}}{RC}$"
   ]
  },
  {
   "cell_type": "markdown",
   "id": "lesser-appendix",
   "metadata": {},
   "source": [
    "b) Use your RK4 integrator to solve the equation from (a) for a square wave input signal, with frequency 1 and amplitude 1. Make plots of Vout(t) from t = 0 to t = 10 when RC = 0.01, 0.1, and 1, with initial condition Vout(0) = 0. Be careful to select an appropriate time step size for your solution in each case."
   ]
  },
  {
   "cell_type": "code",
   "execution_count": 72,
   "id": "postal-preservation",
   "metadata": {},
   "outputs": [
    {
     "ename": "TypeError",
     "evalue": "float() argument must be a string or a number, not 'list'",
     "output_type": "error",
     "traceback": [
      "\u001b[0;31m---------------------------------------------------------------------------\u001b[0m",
      "\u001b[0;31mTypeError\u001b[0m                                 Traceback (most recent call last)",
      "\u001b[0;32m<ipython-input-72-7898f5b206da>\u001b[0m in \u001b[0;36m<module>\u001b[0;34m\u001b[0m\n\u001b[1;32m      6\u001b[0m     \u001b[0;32mreturn\u001b[0m \u001b[0;34m(\u001b[0m\u001b[0mV_in\u001b[0m\u001b[0;34m-\u001b[0m\u001b[0mV_out\u001b[0m\u001b[0;34m)\u001b[0m\u001b[0;34m/\u001b[0m\u001b[0mRC\u001b[0m\u001b[0;34m\u001b[0m\u001b[0;34m\u001b[0m\u001b[0m\n\u001b[1;32m      7\u001b[0m \u001b[0;34m\u001b[0m\u001b[0m\n\u001b[0;32m----> 8\u001b[0;31m \u001b[0mRC1\u001b[0m \u001b[0;34m=\u001b[0m \u001b[0mRK4\u001b[0m\u001b[0;34m(\u001b[0m\u001b[0mcircuit\u001b[0m\u001b[0;34m,\u001b[0m \u001b[0;36m0\u001b[0m\u001b[0;34m,\u001b[0m \u001b[0;36m10\u001b[0m\u001b[0;34m,\u001b[0m \u001b[0;36m0.001\u001b[0m\u001b[0;34m,\u001b[0m\u001b[0;34m[\u001b[0m\u001b[0mnp\u001b[0m\u001b[0;34m.\u001b[0m\u001b[0marange\u001b[0m\u001b[0;34m(\u001b[0m\u001b[0;36m0\u001b[0m\u001b[0;34m,\u001b[0m\u001b[0;36m10\u001b[0m\u001b[0;34m,\u001b[0m\u001b[0;36m0.001\u001b[0m\u001b[0;34m)\u001b[0m\u001b[0;34m,\u001b[0m\u001b[0;36m1\u001b[0m\u001b[0;34m]\u001b[0m\u001b[0;34m)\u001b[0m\u001b[0;34m\u001b[0m\u001b[0;34m\u001b[0m\u001b[0m\n\u001b[0m\u001b[1;32m      9\u001b[0m \u001b[0;31m#RC01 = RK4(circuit, 0.1,  0, 1, 0)\u001b[0m\u001b[0;34m\u001b[0m\u001b[0;34m\u001b[0m\u001b[0;34m\u001b[0m\u001b[0m\n\u001b[1;32m     10\u001b[0m \u001b[0;31m#RC001 = RK4(circuit, 0.01, 0, 10, 0)\u001b[0m\u001b[0;34m\u001b[0m\u001b[0;34m\u001b[0m\u001b[0;34m\u001b[0m\u001b[0m\n",
      "\u001b[0;32m<ipython-input-66-11a93b6871a1>\u001b[0m in \u001b[0;36mRK4\u001b[0;34m(f, t0, t_f, dt, x0, arg)\u001b[0m\n\u001b[1;32m     18\u001b[0m \u001b[0;34m\u001b[0m\u001b[0m\n\u001b[1;32m     19\u001b[0m     \u001b[0;31m# set initial conditions at time zero\u001b[0m\u001b[0;34m\u001b[0m\u001b[0;34m\u001b[0m\u001b[0;34m\u001b[0m\u001b[0m\n\u001b[0;32m---> 20\u001b[0;31m     \u001b[0mx_list\u001b[0m\u001b[0;34m[\u001b[0m\u001b[0;36m0\u001b[0m\u001b[0;34m]\u001b[0m \u001b[0;34m=\u001b[0m \u001b[0mx0\u001b[0m\u001b[0;34m\u001b[0m\u001b[0;34m\u001b[0m\u001b[0m\n\u001b[0m\u001b[1;32m     21\u001b[0m     \u001b[0mt_list\u001b[0m\u001b[0;34m[\u001b[0m\u001b[0;36m0\u001b[0m\u001b[0;34m]\u001b[0m \u001b[0;34m=\u001b[0m \u001b[0mt0\u001b[0m\u001b[0;34m\u001b[0m\u001b[0;34m\u001b[0m\u001b[0m\n\u001b[1;32m     22\u001b[0m \u001b[0;34m\u001b[0m\u001b[0m\n",
      "\u001b[0;31mTypeError\u001b[0m: float() argument must be a string or a number, not 'list'"
     ]
    }
   ],
   "source": [
    "#make sqaure wave\n",
    "from scipy import signal\n",
    "\n",
    "def circuit(V_out, t, RC):\n",
    "    V_in = signal.square(2 * np.pi * t)\n",
    "    return (V_in-V_out)/RC\n",
    "\n",
    "RC1 = RK4(circuit, 0, 10, 0.001,[np.arange(0,10,0.001),1])\n",
    "#RC01 = RK4(circuit, 0.1,  0, 1, 0)\n",
    "#RC001 = RK4(circuit, 0.01, 0, 10, 0)"
   ]
  },
  {
   "cell_type": "code",
   "execution_count": null,
   "id": "smooth-crazy",
   "metadata": {},
   "outputs": [],
   "source": []
  }
 ],
 "metadata": {
  "kernelspec": {
   "display_name": "Python 3",
   "language": "python",
   "name": "phys1600"
  },
  "language_info": {
   "codemirror_mode": {
    "name": "ipython",
    "version": 3
   },
   "file_extension": ".py",
   "mimetype": "text/x-python",
   "name": "python",
   "nbconvert_exporter": "python",
   "pygments_lexer": "ipython3",
   "version": "3.8.6"
  }
 },
 "nbformat": 4,
 "nbformat_minor": 5
}
