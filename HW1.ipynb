{
 "cells": [
  {
   "cell_type": "markdown",
   "id": "piano-pipeline",
   "metadata": {},
   "source": [
    "## PHYS 1600 HW1\n",
    "Tim Zhao, B01307256, Feb 10, 2021"
   ]
  },
  {
   "cell_type": "code",
   "execution_count": 1,
   "id": "accurate-anniversary",
   "metadata": {},
   "outputs": [],
   "source": [
    "import numpy as np\n",
    "from scipy import integrate\n",
    "import matplotlib.pyplot as plt"
   ]
  },
  {
   "cell_type": "code",
   "execution_count": null,
   "id": "loved-equity",
   "metadata": {},
   "outputs": [],
   "source": [
    "#General ODE solver with Runge-Kutta 4\n",
    "def RK4(f,t0,t_f,step_size,f0):\n",
    "    \"\"\"\n",
    "    f - RHS of ODE\n",
    "    t0 - lower limit of independent variable\n",
    "    t_f - upper limit of independent variable\n",
    "    \"\"\"\n",
    "    \n",
    "    # number of time steps, n must be an integer\n",
    "    n  = int(np.ceil((t_f-t0)/dt))\n",
    "    \n",
    "    #initialize some empty lists to store our data and time steps\n",
    "    Q_list = []\n",
    "    t_list = []\n",
    "    \n",
    "    for ii in range(n):\n",
    "        if ii == 0.0:\n",
    "            # set initial conditions at time zero\n",
    "            Q = Q0\n",
    "            t = t0\n",
    "        else :\n",
    "            # !!!!!!!!!!!!!!!!!!!!!!   RK2 method here  !!!!!!!!!!!!!!!!!!!!!!!!!!!!!!!!\n",
    "            \n",
    "            k1 = dt*(-Q_list[ii-1]/R/C)\n",
    "            k2 = dt*(-(Q_list[ii-1]+0.5*k1)/R/C)\n",
    "            \n",
    "            # update value of Q at each time step and step time by dt\n",
    "            Q+=k2\n",
    "            t+=dt\n",
    "            \n",
    "            \n",
    "        # use append to add on to the end of a list\n",
    "        Q_list.append(Q)\n",
    "        t_list.append(t)\n",
    "    \n",
    "    # we turn the lists into numpy arrays before returning\n",
    "    \n",
    "    Q_list = np.array(Q_list)\n",
    "    t_list = np.array(t_list)\n",
    "    \n",
    "    return t_list, Q_list\n",
    "    \n",
    "    \n",
    "    \n",
    "    \n",
    "    \n",
    "    \n",
    "    "
   ]
  }
 ],
 "metadata": {
  "kernelspec": {
   "display_name": "Python 3",
   "language": "python",
   "name": "phys1600"
  },
  "language_info": {
   "codemirror_mode": {
    "name": "ipython",
    "version": 3
   },
   "file_extension": ".py",
   "mimetype": "text/x-python",
   "name": "python",
   "nbconvert_exporter": "python",
   "pygments_lexer": "ipython3",
   "version": "3.8.6"
  }
 },
 "nbformat": 4,
 "nbformat_minor": 5
}
