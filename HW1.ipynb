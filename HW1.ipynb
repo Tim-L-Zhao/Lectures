{
 "cells": [
  {
   "cell_type": "markdown",
   "id": "binary-final",
   "metadata": {},
   "source": [
    "# PHYS 1600 HW1\n",
    "Tim Zhao, B01307256, Feb 10, 2021"
   ]
  },
  {
   "cell_type": "code",
   "execution_count": 2,
   "id": "proprietary-right",
   "metadata": {},
   "outputs": [],
   "source": [
    "import numpy as np\n",
    "from scipy import integrate\n",
    "import matplotlib.pyplot as plt"
   ]
  },
  {
   "cell_type": "markdown",
   "id": "spread-romance",
   "metadata": {},
   "source": [
    "## #1 \n",
    "The Debye model of a solid is used to estimate the contribution of atomic vibrations (phonons) to the specific heat capacity. In the Debye model, the specific heat capacity of a solid is given by the following integral expression: \n",
    "$C_v=9k_B\\bigg(\\frac{T}{\\theta_D}\\bigg)\\int_{0}^{\\theta_D/T} \\frac{x^4e^x}{(e^x-1)^2}dx$ \n",
    "where kB is Boltzmann’s constant and θD is the Debye temperature, a property of solids that depends on their density and atomic bonding strength."
   ]
  },
  {
   "cell_type": "markdown",
   "id": "gentle-butterfly",
   "metadata": {},
   "source": [
    "a) Write a Python function to calculate $C_V$ for a given material and temperature. Your program should take the density, sample volume, Debye Temperature, temperature upper limit, and required accuracy as inputs, and output the heat capacity between $T = 0$ and the upper temperature limit. Use an adaptive Simpson’s rule to evaluate the integral to the required accuracy."
   ]
  },
  {
   "cell_type": "code",
   "execution_count": 3,
   "id": "promising-century",
   "metadata": {},
   "outputs": [],
   "source": [
    "def adapt_simp(f, start, stop, accuracy, args = None):\n",
    "    \"\"\"\n",
    "    f - function to integrate\n",
    "    start - lower limit\n",
    "    stop - upper limit\n",
    "    accuracy - desired error range\n",
    "    \"\"\"\n",
    "    \n",
    "    #chose initial N and error\n",
    "    h = 0.1\n",
    "    error = 100\n",
    "    \n",
    "    \n",
    "    #find S0 w/ simpsons\n",
    "    x_list = np.arange(start,stop+h,h)\n",
    "    S0 = (1/3)*(f(start,*args)+f(stop,*args)+2*f(x_list[2:-2:2].sum()))\n",
    "    T0 = (2/3)* f(x_list[1:-1:2].sum())\n",
    "    F0 = h*(S0+2*T0)\n",
    "    \n",
    "    #make empty lists to store each rounds of calculation\n",
    "    S_list=[S0,]\n",
    "    T_list=[T0,]\n",
    "    F_list=[F0,]\n",
    "\n",
    "    while error > accuracy:\n",
    "        \n",
    "        #half step size\n",
    "        h /= 2\n",
    "        x_list = np.arange(start,stop+h,h)\n",
    "        \n",
    "        #adaptive simpson\n",
    "        T = (2/3)* f(x_list[1:-1:2],*args).sum()\n",
    "        S = S_list[-1]+T_list[-1]\n",
    "        F = h*(S+2*T)\n",
    "        \n",
    "        S_list.append(S)\n",
    "        T_list.append(T)   \n",
    "        F_list.append(F)\n",
    "        \n",
    "        #check error\n",
    "        error = abs((1/15)*(F_list[-1]-F_list[-2]))\n",
    "    \n",
    "    return F_list[-1]"
   ]
  },
  {
   "cell_type": "code",
   "execution_count": 4,
   "id": "turned-mistress",
   "metadata": {},
   "outputs": [],
   "source": [
    "def polynomial(x,*args):\n",
    "    \n",
    "    \"\"\"\n",
    "    A general polynomial the order of which is determined by the size\n",
    "    of the array of coefficients\n",
    "    Arguments:\n",
    "    x -- vector of x values\n",
    "    args -- an array of coeficients, the size of this array determines the order\n",
    "    of the polynomial\n",
    "    example: polynomial(x,2,3) will generate the line: f(x) = 2 + 3x\n",
    "    or \n",
    "    polynomial(x,1,0,0.1) will generate: f(x) = 1 +0.1*x^2, fixed conflicts\n",
    "    \"\"\"\n",
    "    f = 0*x\n",
    "    for (i,a) in enumerate(args):\n",
    "        f += a*x**(i)\n",
    "    \n",
    "    return f"
   ]
  },
  {
   "cell_type": "code",
   "execution_count": 2,
   "id": "empty-bridges",
   "metadata": {},
   "outputs": [
    {
     "ename": "NameError",
     "evalue": "name 'adapt_simp' is not defined",
     "output_type": "error",
     "traceback": [
      "\u001b[0;31m---------------------------------------------------------------------------\u001b[0m",
      "\u001b[0;31mNameError\u001b[0m                                 Traceback (most recent call last)",
      "\u001b[0;32m<ipython-input-2-8d9967fd91c9>\u001b[0m in \u001b[0;36m<module>\u001b[0;34m\u001b[0m\n\u001b[0;32m----> 1\u001b[0;31m \u001b[0mprint\u001b[0m\u001b[0;34m(\u001b[0m\u001b[0madapt_simp\u001b[0m\u001b[0;34m(\u001b[0m\u001b[0mpolynomial\u001b[0m\u001b[0;34m,\u001b[0m\u001b[0;36m0\u001b[0m\u001b[0;34m,\u001b[0m\u001b[0;36m100\u001b[0m\u001b[0;34m,\u001b[0m\u001b[0;36m0.0001\u001b[0m\u001b[0;34m,\u001b[0m\u001b[0margs\u001b[0m\u001b[0;34m=\u001b[0m\u001b[0;34m[\u001b[0m\u001b[0;36m0\u001b[0m\u001b[0;34m,\u001b[0m\u001b[0;36m1\u001b[0m\u001b[0;34m]\u001b[0m\u001b[0;34m)\u001b[0m\u001b[0;34m)\u001b[0m\u001b[0;34m\u001b[0m\u001b[0;34m\u001b[0m\u001b[0m\n\u001b[0m",
      "\u001b[0;31mNameError\u001b[0m: name 'adapt_simp' is not defined"
     ]
    }
   ],
   "source": [
    "print(adapt_simp(polynomial,0,100,0.0001,args=[0,1]))"
   ]
  },
  {
   "cell_type": "code",
   "execution_count": null,
   "id": "chicken-highway",
   "metadata": {},
   "outputs": [],
   "source": [
    "def Debye(rho,V,theta_D,T_max,accu):\n",
    "    \"\"\"\n",
    "    adaptive simpson's rule\n",
    "    \n",
    "    rho - density\n",
    "    V - volume\n",
    "    theta_D - Debye Temperature\n",
    "    T_max - Temperature upper limit\n",
    "    accu - required accuracy\n",
    "    return array of Temperature and Heat Capacity between T=0 and T_max\n",
    "    \"\"\"\n",
    "    \n",
    "    #start with small N\n",
    "    N=1000\n",
    "    \n",
    "    #check accuracy\n",
    "    while error>accu:\n",
    "        \n",
    "        #adaptive simpson\n",
    "    "
   ]
  },
  {
   "cell_type": "code",
   "execution_count": 3,
   "id": "present-australia",
   "metadata": {},
   "outputs": [],
   "source": [
    "#General ODE solver with Runge-Kutta 4\n",
    "def RK4(f,t0,t_f,dt,x0):\n",
    "    \"\"\"\n",
    "    f - a function, takes 2 variables (t,x), RHS of ODE\n",
    "    t0 - lower limit of independent variable\n",
    "    t_f - upper limit of independent variable\n",
    "    dt - step size\n",
    "    x0 - initial value \n",
    "    return - array of t and x\n",
    "    \"\"\"\n",
    "    \n",
    "    # number of time steps, n must be an integer\n",
    "    n  = int(np.ceil((t_f-t0)/dt))\n",
    "    \n",
    "    # create empty lists to store values\n",
    "    x_list=np.zeros(n, np.longdouble)\n",
    "    t_list=np.zeros(Q_list.size)\n",
    "    \n",
    "    # set initial conditions at time zero\n",
    "    x_list[0] = x0\n",
    "    t_list[0] = t0\n",
    "    \n",
    "    # RK4\n",
    "    for ii in range(n-1):\n",
    "            k1 = dt*f(x_list[ii],t_list[ii])\n",
    "            k2 = dt*f(x_list[ii]+0.5*k1,t_list[ii]+dt/2)\n",
    "            k3 = dt*f(x_list[ii]+0.5*k2,t_list[ii]+dt/2)\n",
    "            k4 = dt*f(x_list[ii]+0.5*k3,t_list[ii]+dt/2)\n",
    "            \n",
    "            # update value of Q at each time step and step time by dt\n",
    "            x_list[ii+1]=x_list[ii]+(k1+2*k2+2*k3+k4)/6\n",
    "            t_list[ii+1]=t_list[ii]+dt\n",
    "            \n",
    "    return t_list, Q_list"
   ]
  },
  {
   "cell_type": "code",
   "execution_count": null,
   "id": "searching-stranger",
   "metadata": {},
   "outputs": [],
   "source": []
  },
  {
   "cell_type": "code",
   "execution_count": null,
   "id": "recognized-florence",
   "metadata": {},
   "outputs": [],
   "source": []
  }
 ],
 "metadata": {
  "kernelspec": {
   "display_name": "Python 3",
   "language": "python",
   "name": "phys1600"
  },
  "language_info": {
   "codemirror_mode": {
    "name": "ipython",
    "version": 3
   },
   "file_extension": ".py",
   "mimetype": "text/x-python",
   "name": "python",
   "nbconvert_exporter": "python",
   "pygments_lexer": "ipython3",
   "version": "3.8.6"
  }
 },
 "nbformat": 4,
 "nbformat_minor": 5
}
