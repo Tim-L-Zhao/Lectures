{
 "cells": [
  {
   "cell_type": "markdown",
   "id": "automotive-checklist",
   "metadata": {},
   "source": [
    "# PHYS 1600 HW1\n",
    "Tim Zhao, B01307256, Feb 10, 2021"
   ]
  },
  {
   "cell_type": "code",
   "execution_count": 41,
   "id": "amateur-metropolitan",
   "metadata": {},
   "outputs": [],
   "source": [
    "import numpy as np\n",
    "from scipy import integrate\n",
    "import matplotlib.pyplot as plt"
   ]
  },
  {
   "cell_type": "markdown",
   "id": "hairy-baseline",
   "metadata": {},
   "source": [
    "## #1 \n",
    "The Debye model of a solid is used to estimate the contribution of atomic vibrations (phonons) to the specific heat capacity. In the Debye model, the specific heat capacity of a solid is given by the following integral expression: \n",
    "$C_v=9k_B\\bigg(\\frac{T}{\\theta_D}\\bigg)\\int_{0}^{\\theta_D/T} \\frac{x^4e^x}{(e^x-1)^2}dx$ \n",
    "where $k_B$ is Boltzmann’s constant and θD is the Debye temperature, a property of solids that depends on their density and atomic bonding strength."
   ]
  },
  {
   "cell_type": "markdown",
   "id": "false-bloom",
   "metadata": {},
   "source": [
    "a) Write a Python function to calculate $C_V$ for a given material and temperature. Your program should take the density, sample volume, Debye Temperature, temperature upper limit, and required accuracy as inputs, and output the heat capacity between $T = 0$ and the upper temperature limit. Use an adaptive Simpson’s rule to evaluate the integral to the required accuracy."
   ]
  },
  {
   "cell_type": "code",
   "execution_count": 42,
   "id": "corrected-seattle",
   "metadata": {},
   "outputs": [],
   "source": [
    "def adapt_simp(f, start, stop, accuracy, args=None):\n",
    "    \"\"\"\n",
    "    f - function to integrate\n",
    "    start - lower limit\n",
    "    stop - upper limit\n",
    "    accuracy - desired error range\n",
    "    args - args passed to f, optional\n",
    "    \n",
    "    return - (integral, error)\n",
    "    \"\"\"\n",
    "    \n",
    "    #set initial h and error\n",
    "    h = 0.1\n",
    "    error = 100\n",
    "\n",
    "    #find S0 w/ simpsons\n",
    "    x_list = np.arange(start,stop+h,h)\n",
    "    S = (1/3)*(f(start,*args)+f(stop,*args)+2*f(x_list[2:-2:2],*args).sum())\n",
    "    T = (2/3)* f(x_list[1:-1:2],*args).sum()\n",
    "    F_current = h*(S+2*T)\n",
    "\n",
    "    while error > accuracy:\n",
    "        #update F\n",
    "        F_last = F_current\n",
    "       \n",
    "        #half step size\n",
    "        h /= 2\n",
    "        x_list = np.arange(start,stop+h,h)\n",
    "        \n",
    "        #adaptive simpson\n",
    "        S += T\n",
    "        T = (2/3)* f(x_list[1:-1:2],*args).sum()\n",
    "        F_current = h*(S+2*T)\n",
    "        \n",
    "        #check error\n",
    "        error = abs((1/15)*(F_current-F_last))\n",
    "    \n",
    "    return (F_last, error)"
   ]
  },
  {
   "cell_type": "code",
   "execution_count": 43,
   "id": "appreciated-torture",
   "metadata": {},
   "outputs": [
    {
     "name": "stdout",
     "output_type": "stream",
     "text": [
      "scipy 25.2736222712825\n",
      "mine (25.274130627494436, 3.005787358271543e-07)\n"
     ]
    }
   ],
   "source": [
    "\n",
    "#testing adaptive simpson w/ 1b.\n",
    "def debye_integrant(x,):\n",
    "    g=(x**4*np.exp(x))/(np.exp(x)-1)**2\n",
    "    return g\n",
    "\n",
    "start = 0.001\n",
    "stop = 10\n",
    "x_list = np.arange(start, stop, 0.0001)\n",
    "f_list = debye_integrant(x_list)\n",
    "actual = integrate.simpson(f_list, x_list)\n",
    "print ('scipy', actual)\n",
    "\n",
    "mine = adapt_simp(debye_integrant, start, stop, 0.0001, args = [])\n",
    "print('mine', mine)\n"
   ]
  },
  {
   "cell_type": "code",
   "execution_count": 95,
   "id": "outdoor-grave",
   "metadata": {},
   "outputs": [],
   "source": [
    "k_B=1.38 * 10**(-23)\n",
    "Avogadro = 6.02 * 10**23.\n",
    "\n",
    "\n",
    "def debye(rho,V,molar_mass,theta_D,T_0,T_max,dT,accuracy):\n",
    "    \"\"\"    \n",
    "    rho - density in g/cm^3\n",
    "    V - volume in cm^3\n",
    "    molar_mass - molar mass in amu, to find N\n",
    "    theta_D - Debye Temperature\n",
    "    T_0 - Temperature lower limit, must > 0\n",
    "    T_max - Temperature upper limit\n",
    "    accuracy - required accuracy\n",
    "    \n",
    "    return - array of Heat Capacity between T=0.01 and T_max, with dT=0.01\n",
    "    \"\"\"    \n",
    "    np.seterr(all='warn')\n",
    "    #initialize empty lists to store data\n",
    "    Cv_list=[]\n",
    "    N=rho*V*Avogadro/molar_mass\n",
    "    for T in np.arange(0.001,T_max,dT):\n",
    "        try:\n",
    "            Cv=N*9*k_B*(T/theta_D)**3*adapt_simp(integrant, 0.001,(theta_D/T), accuracy,[])[0] \n",
    "            Cv_list.append(Cv)\n",
    "        except:\n",
    "            print(T)\n",
    "    \n",
    "    return Cv_list"
   ]
  },
  {
   "cell_type": "code",
   "execution_count": null,
   "id": "pharmaceutical-words",
   "metadata": {},
   "outputs": [
    {
     "name": "stdout",
     "output_type": "stream",
     "text": [
      "Al\n"
     ]
    },
    {
     "name": "stderr",
     "output_type": "stream",
     "text": [
      "<ipython-input-3-ff765ef7d1f3>:3: RuntimeWarning: overflow encountered in exp\n",
      "  g=(x**4*np.exp(x))/(np.exp(x)-1)**2\n",
      "<ipython-input-3-ff765ef7d1f3>:3: RuntimeWarning: invalid value encountered in double_scalars\n",
      "  g=(x**4*np.exp(x))/(np.exp(x)-1)**2\n",
      "<ipython-input-3-ff765ef7d1f3>:3: RuntimeWarning: overflow encountered in multiply\n",
      "  g=(x**4*np.exp(x))/(np.exp(x)-1)**2\n",
      "<ipython-input-3-ff765ef7d1f3>:3: RuntimeWarning: overflow encountered in square\n",
      "  g=(x**4*np.exp(x))/(np.exp(x)-1)**2\n",
      "<ipython-input-3-ff765ef7d1f3>:3: RuntimeWarning: invalid value encountered in true_divide\n",
      "  g=(x**4*np.exp(x))/(np.exp(x)-1)**2\n",
      "<ipython-input-3-ff765ef7d1f3>:3: RuntimeWarning: overflow encountered in double_scalars\n",
      "  g=(x**4*np.exp(x))/(np.exp(x)-1)**2\n"
     ]
    },
    {
     "name": "stdout",
     "output_type": "stream",
     "text": [
      "Diamond\n"
     ]
    }
   ],
   "source": [
    "density=1\n",
    "T_0=0.0001\n",
    "T_max=1\n",
    "dT=0.0001\n",
    "T_list=np.arange(T_0,T_max,dT)\n",
    "accuracy=0.0001\n",
    "\n",
    "\"\"\"\n",
    "\n",
    "print('lead')\n",
    "#Lead\n",
    "Pb_rho=11.35\n",
    "Pb_molar_mass=207.2\n",
    "Pb_theta_D=105\n",
    "Pb_debye=debye(Pb_rho, density, Pb_molar_mass,Pb_theta_D, T_0, T_max,dT, accuracy)\n",
    "#plt.plot(T_list,Pb_debye,label='Pb')\n",
    "#0.295\n",
    "\"\"\"\n",
    "\n",
    "print('Al')\n",
    "#Aluminum\n",
    "Al_rho = 2.7\n",
    "Al_molar_mass = 26.98\n",
    "Al_theta_D = 428\n",
    "Al_debye=debye(Al_rho, density, Al_molar_mass, Al_theta_D, T_0,T_max, dT, accuracy)\n",
    "#plt.plot(T_list, Al_debye,label='Al')\n",
    "#1.2\n",
    "\n",
    "print('Diamond')\n",
    "#Diamond\n",
    "dia_rho = 3.51\n",
    "dia_molar_mass = 12.01\n",
    "dia_theta_D = 2230\n",
    "dia_debye=debye(dia_rho, density, dia_molar_mass, dia_theta_D, T_0, T_max,dT,accuracy)\n",
    "#plt.plot(T_list, dia_debye,label='Diamond')\n",
    "\n",
    "\n",
    "plt.legend()\n",
    "plt.show()"
   ]
  },
  {
   "cell_type": "code",
   "execution_count": 94,
   "id": "quarterly-joint",
   "metadata": {},
   "outputs": [],
   "source": [
    "#General ODE solver with Runge-Kutta 4\n",
    "def RK4(f,t0,t_f,dt,x0, args=None):\n",
    "    \"\"\"\n",
    "    f - a function, takes 2 variables (t,x), RHS of ODE\n",
    "    t0 - lower limit of independent variable\n",
    "    t_f - upper limit of independent variable\n",
    "    dt - step size\n",
    "    x0 - initial value \n",
    "    return - array of t and x\n",
    "    \"\"\"\n",
    "    \n",
    "    # number of time steps, n must be an integer\n",
    "    n  = int(np.ceil((t_f-t0)/dt))\n",
    "    \n",
    "    # create empty lists to store values\n",
    "    x_list=np.zeros(n, np.longdouble)\n",
    "    t_list=np.zeros(x_list.size)\n",
    "    \n",
    "    # set initial conditions at time zero\n",
    "    x_list[0] = x0\n",
    "    t_list[0] = t0\n",
    "    \n",
    "    # RK4\n",
    "    for ii in range(n-1):\n",
    "            k1 = dt*f(x_list[ii],t_list[ii],*args)\n",
    "            k2 = dt*f(x_list[ii]+0.5*k1,t_list[ii]+dt/2,*args)\n",
    "            k3 = dt*f(x_list[ii]+0.5*k2,t_list[ii]+dt/2,*args)\n",
    "            k4 = dt*f(x_list[ii]+0.5*k3,t_list[ii]+dt/2,*args)\n",
    "            \n",
    "            # update value of Q at each time step and step time by dt\n",
    "            x_list[ii+1]=x_list[ii]+(k1+2*k2+2*k3+k4)/6\n",
    "            t_list[ii+1]=t_list[ii]+dt\n",
    "            \n",
    "    return t_list, x_list"
   ]
  },
  {
   "cell_type": "code",
   "execution_count": null,
   "id": "monthly-bedroom",
   "metadata": {},
   "outputs": [],
   "source": [
    "x=0.00001\n",
    "g=np.exp(x)\n",
    "print(g)"
   ]
  },
  {
   "cell_type": "markdown",
   "id": "rational-crystal",
   "metadata": {},
   "source": [
    "# #2\n",
    "A simple electronic circuit with a resistor and capacitor is shown below.\n",
    "A voltage is sent into the circuit on the left at $V_{in}$ and read out on the right at $V_{out}$."
   ]
  },
  {
   "cell_type": "markdown",
   "id": "willing-politics",
   "metadata": {},
   "source": [
    "a)Find the 1st order ordinary differential equation governing $V_{out}(t)$. Assume the output load impedance is infinite so that no current flows through it. Your equation should relate $dV_{out}/dt$ to $R$, $C$, and $V_{in} − V_{out}$.\n"
   ]
  },
  {
   "cell_type": "markdown",
   "id": "stone-admission",
   "metadata": {},
   "source": [
    "\n",
    "$\\frac{dQ}{dt}=I=\\frac{V_{in}-V_{out}}{R}$\n",
    "\n",
    "$V_{out}=\\frac{Q}{C}$\n",
    "\n",
    "$\\frac{dQ}{dt}=\\frac{d}{dt}V_{out}C$\n",
    "\n",
    "$\\frac{d}{dt}V_{out}=\\frac{V_{in}-V_{out}}{RC}$"
   ]
  },
  {
   "cell_type": "markdown",
   "id": "executive-rouge",
   "metadata": {},
   "source": [
    "b) Use your RK4 integrator to solve the equation from (a) for a square wave input signal, with frequency 1 and amplitude 1. Make plots of Vout(t) from t = 0 to t = 10 when RC = 0.01, 0.1, and 1, with initial condition Vout(0) = 0. Be careful to select an appropriate time step size for your solution in each case."
   ]
  },
  {
   "cell_type": "code",
   "execution_count": 118,
   "id": "opened-joining",
   "metadata": {},
   "outputs": [
    {
     "data": {
      "image/png": "[encoded data removed]",
      "text/plain": [
       "<Figure size 432x288 with 1 Axes>"
      ]
     },
     "metadata": {
      "needs_background": "light"
     },
     "output_type": "display_data"
    }
   ],
   "source": [
    "#make sqaure wave\n",
    "from scipy import signal\n",
    "\n",
    "def circuit(V_out, t, RC):\n",
    "    #V_in = signal.square(2 * np.pi * t)\n",
    "    V_in = sin(2*np.pi*t)\n",
    "    return (V_in-V_out)/RC\n",
    "\n",
    "T,RC1 = RK4(circuit, 0, 10, 0.001, 0,[1])\n",
    "T,RC01 = RK4(circuit, 0, 10, 0.001, 0,[1])\n",
    "T,RC001 = RK4(circuit, 0, 10, 0.001, 0,[1])\n",
    "plt.plot(T,RC1)\n",
    "plt.plot(T,RC01)\n",
    "plt.plot(T,RC001)\n",
    "plt.show()"
   ]
  },
  {
   "cell_type": "markdown",
   "id": "aging-professional",
   "metadata": {},
   "source": [
    "# #3"
   ]
  },
  {
   "cell_type": "markdown",
   "id": "linear-calcium",
   "metadata": {},
   "source": [
    "Consider a radioactive decay involving two distinct types of nuclei, A and B, with populations NA(t) and NB(t). Suppose that the type A nuclei decay to form type B nuclei which decay in turn according to the differential equations\n",
    "\n",
    "$\\frac{dN_A}{dt}=-\\frac{N_A}{\\tau_A}$\n",
    "\n",
    "$\\frac{dN_B}{dt}=\\frac{N_A}{\\tau_A}-\\frac{N_B}{\\tau_B}$\n",
    "\n",
    "where τA and τB are the decay time constants for each type of nucleus."
   ]
  },
  {
   "cell_type": "markdown",
   "id": "worth-disclosure",
   "metadata": {},
   "source": [
    "a) Use your RK4 integrator to numerically find the solution of these coupled equations for NA and NB as functions of time."
   ]
  },
  {
   "cell_type": "code",
   "execution_count": 99,
   "id": "earlier-cosmetic",
   "metadata": {},
   "outputs": [
    {
     "data": {
      "image/png": "[encoded data removed]",
      "text/plain": [
       "<Figure size 432x288 with 1 Axes>"
      ]
     },
     "metadata": {
      "needs_background": "light"
     },
     "output_type": "display_data"
    }
   ],
   "source": [
    "#define the 2 ODEs\n",
    "def fA(NA,t,tA):\n",
    "    return -NA/tA\n",
    "\n",
    "def fB(NB,t,tA,NA,tB):\n",
    "    return (NA/tA)-(NB/tB)\n",
    "\n",
    "### SOLVE COUPLED ODE###\n",
    "def RK4_coupled(fA,fB,tA,tB,t0,tf,dt):\n",
    "    #number of time steps, n must be an integer\n",
    "    n  = int(np.ceil((t_f-t0)/dt)) \n",
    "\n",
    "    # create empty lists to store values\n",
    "    A_list=np.zeros(n, np.longdouble)\n",
    "    B_list=np.zeros(A_list.size,np.longdouble)\n",
    "    t_list=np.zeros(A_list.size,np.longdouble)\n",
    "    \n",
    "    # set initial conditions at time zero\n",
    "    A_list[0] = A0\n",
    "    B_list[0] = B0\n",
    "    t_list[0] = t0\n",
    "\n",
    "    # RK4\n",
    "    for ii in range(n-1): \n",
    "    \n",
    "        #particle A\n",
    "        A_k1 = dt*fA(A_list[ii],t_list[ii],tA)\n",
    "        A_k2 = dt*fA(A_list[ii]+0.5*A_k1,t_list[ii]+dt/2,tA)\n",
    "        A_k3 = dt*fA(A_list[ii]+0.5*A_k2,t_list[ii]+dt/2,tA)     \n",
    "        A_k4 = dt*fA(A_list[ii]+0.5*A_k3,t_list[ii]+dt/2,tA)\n",
    "        A_list[ii+1]=A_list[ii]+(A_k1+2*A_k2+2*A_k3+A_k4)/6   \n",
    "\n",
    "        #particle B \n",
    "        B_k1 = dt*fB(B_list[ii],t_list[ii],tA,A_list[ii],tB )\n",
    "        B_k2 = dt*fB(B_list[ii]+0.5*B_k1,t_list[ii]+dt/2,tA,A_list[ii],tB)\n",
    "        B_k3 = dt*fB(B_list[ii]+0.5*B_k2,t_list[ii]+dt/2,tA,A_list[ii],tB)     \n",
    "        B_k4 = dt*fB(B_list[ii]+0.5*B_k3,t_list[ii]+dt/2,tA,A_list[ii],tB)\n",
    "        B_list[ii+1]=B_list[ii]+(B_k1+2*B_k2+2*B_k3+B_k4)/6\n",
    "\n",
    "        #update time\n",
    "        t_list[ii+1]=t_list[ii]+dt\n",
    "    \n",
    "    return t_list, A_list, B_list\n",
    "\n",
    "#set constants and time range\n",
    "A0=100\n",
    "B0=0\n",
    "t0=0\n",
    "tf=10\n",
    "dt=0.01\n",
    "\n",
    "tA=4\n",
    "tB=2\n",
    "T,A,B=RK4_coupled(fA,fB,tA,tB,t0,tf,dt)\n",
    "plt.plot(T,A,label='A')\n",
    "plt.plot(T,B,label='B')\n",
    "plt.legend()\n",
    "plt.show()"
   ]
  },
  {
   "cell_type": "markdown",
   "id": "governing-punishment",
   "metadata": {},
   "source": [
    "b) Find the analytic solution for NA(t) and NB(t) and compare with your numeric results. How accurate is your numeric solution?\n",
    "see below"
   ]
  },
  {
   "cell_type": "code",
   "execution_count": 100,
   "id": "formal-barcelona",
   "metadata": {},
   "outputs": [
    {
     "data": {
      "image/png": "[encoded data removed]",
      "text/plain": [
       "<Figure size 432x288 with 1 Axes>"
      ]
     },
     "metadata": {
      "needs_background": "light"
     },
     "output_type": "display_data"
    }
   ],
   "source": [
    "#explicit solution\n",
    "def NA(t,A0,tA):\n",
    "    return A0*np.exp(-t/tA)\n",
    "\n",
    "def NB(t,A0,tA,B0,tB):\n",
    "    return (A0*tB)/(tA-tB)*np.exp(-t/tA)+(B0+(A0*tB/(tB-tA)))*np.exp(-t/tB)\n",
    "\n",
    "exp_A =[]\n",
    "exp_B =[]\n",
    "\n",
    "for t in T:\n",
    "    exp_A.append(NA(t, A0, tA))\n",
    "    exp_B.append(NB(t,A0,tA,B0,tB))\n",
    "\n",
    "#compare RK4 and explicit solution\n",
    "plt.plot(T,exp_A,label='explicit A')\n",
    "plt.plot(T,exp_B, label='explicit B')\n",
    "plt.plot(T,A,linestyle=':',label='RK4 A')\n",
    "plt.plot(T,B, linestyle=':',label='RK4 B')\n",
    "plt.legend()\n",
    "plt.show()"
   ]
  },
  {
   "cell_type": "markdown",
   "id": "immune-resort",
   "metadata": {},
   "source": [
    "c) Explore the behavior for different values of the ratio $\\tau_A/\\tau_B$ and find the important limits of $\\tau_A/\\tau_B$."
   ]
  },
  {
   "cell_type": "markdown",
   "id": "secure-programming",
   "metadata": {},
   "source": [
    "3 senarios:\n",
    "\n",
    "i) $\\tau_A/\\tau_B = 1$\n",
    "\n",
    "ii) $\\tau_A/\\tau_B \\gg 1$\n",
    "\n",
    "iii) $\\tau_A/\\tau_B \\ll 1$"
   ]
  },
  {
   "cell_type": "code",
   "execution_count": 106,
   "id": "musical-midnight",
   "metadata": {},
   "outputs": [
    {
     "data": {
      "image/png": "[encoded data removed]",
      "text/plain": [
       "<Figure size 432x288 with 1 Axes>"
      ]
     },
     "metadata": {
      "needs_background": "light"
     },
     "output_type": "display_data"
    }
   ],
   "source": [
    "t0=0\n",
    "tf=10\n",
    "dt=0.01\n",
    "\n",
    "#i), tA/tB = 1\n",
    "tA=1\n",
    "tB=1\n",
    "T,A,B=RK4_coupled(fA,fB,tA,tB,t0,tf,dt)\n",
    "plt.plot(T,A,label='A')\n",
    "plt.plot(T,B,label='B')\n",
    "plt.legend()\n",
    "plt.show()"
   ]
  },
  {
   "cell_type": "markdown",
   "id": "interior-batman",
   "metadata": {},
   "source": [
    "explicit solution is undefined when tA=tB"
   ]
  },
  {
   "cell_type": "code",
   "execution_count": 102,
   "id": "divine-invasion",
   "metadata": {},
   "outputs": [
    {
     "data": {
      "image/png": "[encoded data removed]",
      "text/plain": [
       "<Figure size 432x288 with 1 Axes>"
      ]
     },
     "metadata": {
      "needs_background": "light"
     },
     "output_type": "display_data"
    }
   ],
   "source": [
    "#ii), tA/tB >> 1\n",
    "tA=10\n",
    "tB=0.1\n",
    "T,A,B=RK4_coupled(fA,fB,tA,tB,t0,tf,dt)\n",
    "plt.plot(T,A,label='A')\n",
    "plt.plot(T,B,label='B')\n",
    "plt.legend()\n",
    "plt.show()"
   ]
  },
  {
   "cell_type": "markdown",
   "id": "stupid-virginia",
   "metadata": {},
   "source": [
    "when tA>>tB, particle A doesn't decay fast enough for particle B to start decaying"
   ]
  },
  {
   "cell_type": "code",
   "execution_count": 108,
   "id": "saved-tractor",
   "metadata": {},
   "outputs": [
    {
     "data": {
      "image/png": "[encoded data removed]",
      "text/plain": [
       "<Figure size 432x288 with 1 Axes>"
      ]
     },
     "metadata": {
      "needs_background": "light"
     },
     "output_type": "display_data"
    }
   ],
   "source": [
    "#iii), tA/tB << 1\n",
    "tA=0.1\n",
    "tB=10\n",
    "T,A,B=RK4_coupled(fA,fB,tA,tB,t0,tf,dt)\n",
    "plt.plot(T,A,label='A')\n",
    "plt.plot(T,B,label='B')\n",
    "plt.legend()\n",
    "plt.show()"
   ]
  },
  {
   "cell_type": "markdown",
   "id": "extreme-veteran",
   "metadata": {},
   "source": [
    "when tA<<tB, all of particle A quickly decays to particle B, and prticle B gradualy decays."
   ]
  },
  {
   "cell_type": "markdown",
   "id": "manufactured-governor",
   "metadata": {},
   "source": [
    "4) Provide a physical interpretation the short and long time behaviors for different values of the ratio τA/τB."
   ]
  },
  {
   "cell_type": "markdown",
   "id": "imposed-inventory",
   "metadata": {},
   "source": [
    "The amount of particle B that can decay depends on the rate of decay of particle A. \n",
    "When tA>>tB, very few particle A decay to particle B, and the very small amount of particle B quickly decays, so the total number of B is always close to 0.\n",
    "When tA<<tB, most of particle A quickly decay to particle B, and the amount of particle B increas quickly until A is exhausted, then B gradually decays."
   ]
  },
  {
   "cell_type": "markdown",
   "id": "hired-anniversary",
   "metadata": {},
   "source": [
    "## #4\n",
    "In this problem, we will numerically investigate the motion of a baseball. Consider a baseball hit near ground level at a takeoff angle of θ above the horizontal, with an initial speed of v0. Assume there is air resistance that gives a drag force of the form\n",
    "\n",
    "$F_D=-\\frac{1}{2}C_dA \\vec{v} \\cdot \\vec{v} \\hat{v}$\n",
    "\n",
    "where $A$ is the cross-sectional area of the ball, $\\rho$ is the density of air,$\\vec{v}$ is the velocity of the ball, and $C_d$ is the quadratic drag coefficient. For a baseball $C_d$ is approximately $0.3$, and independent of velocity. The mass of a baseball is $0.15$ kg, and the diameter is $7.4$ cm."
   ]
  },
  {
   "cell_type": "markdown",
   "id": "potential-sending",
   "metadata": {},
   "source": [
    "a) Write a program to integrate the equations of motion for the baseball using the RK4 method. The program should take v0 and θ as input. Verify that the program works correctly."
   ]
  },
  {
   "cell_type": "code",
   "execution_count": null,
   "id": "spatial-family",
   "metadata": {},
   "outputs": [],
   "source": [
    "def air(C_d,A,vx,vy):\n",
    "    \"\"\"\n",
    "    for air resistance\n",
    "    C_d - quadratic drag coefficient\n",
    "    A - cross-sectional area\n",
    "    vx - velocity in x\n",
    "    vy - velocity in y\n",
    "    \"\"\"\n",
    "    \n",
    "    return -0.5*C_d*A"
   ]
  }
 ],
 "metadata": {
  "kernelspec": {
   "display_name": "Python 3",
   "language": "python",
   "name": "phys1600"
  },
  "language_info": {
   "codemirror_mode": {
    "name": "ipython",
    "version": 3
   },
   "file_extension": ".py",
   "mimetype": "text/x-python",
   "name": "python",
   "nbconvert_exporter": "python",
   "pygments_lexer": "ipython3",
   "version": "3.8.6"
  }
 },
 "nbformat": 4,
 "nbformat_minor": 5
}
