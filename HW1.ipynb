{
 "cells": [
  {
   "cell_type": "markdown",
   "id": "respected-cabinet",
   "metadata": {},
   "source": [
    "# PHYS 1600 HW1\n",
    "Tim Zhao, B01307256, Feb 10, 2021"
   ]
  },
  {
   "cell_type": "code",
   "execution_count": null,
   "id": "smoking-tragedy",
   "metadata": {},
   "outputs": [],
   "source": [
    "import numpy as np\n",
    "from scipy import integrate\n",
    "import matplotlib.pyplot as plt"
   ]
  },
  {
   "cell_type": "markdown",
   "id": "sixth-curtis",
   "metadata": {},
   "source": [
    "## #1 \n",
    "The Debye model of a solid is used to estimate the contribution of atomic vibrations (phonons) to the specific heat capacity. In the Debye model, the specific heat capacity of a solid is given by the following integral expression: \n",
    "$C_v=9k_B\\bigg(\\frac{T}{\\theta_D}\\bigg)\\int_{0}^{\\theta_D/T} \\frac{x^4e^x}{(e^x-1)^2}dx$ \n",
    "where kB is Boltzmann’s constant and θD is the Debye temperature, a property of solids that depends on their density and atomic bonding strength."
   ]
  },
  {
   "cell_type": "markdown",
   "id": "residential-retro",
   "metadata": {},
   "source": [
    "a) Write a Python function to calculate $C_V$ for a given material and temperature. Your program should take the density, sample volume, Debye Temperature, temperature upper limit, and required accuracy as inputs, and output the heat capacity between $T = 0$ and the upper temperature limit. Use an adaptive Simpson’s rule to evaluate the integral to the required accuracy."
   ]
  },
  {
   "cell_type": "code",
   "execution_count": null,
   "id": "found-government",
   "metadata": {},
   "outputs": [],
   "source": [
    "def adapt_simp(f, start, stop, accuracy, args=None):\n",
    "    \"\"\"\n",
    "    f - function to integrate\n",
    "    start - lower limit\n",
    "    stop - upper limit\n",
    "    accuracy - desired error range\n",
    "    \"\"\"\n",
    "    \n",
    "    #set initial h and error\n",
    "    h = 0.1\n",
    "    error = 100\n",
    "    \n",
    "    #find S0 w/ simpsons\n",
    "    x_list = np.arange(start,stop+h,h)\n",
    "    S = (1/3)*(f(start,*args)+f(stop,*args)+2*f(x_list[2:-2:2],*args).sum())\n",
    "    T = (2/3)* f(x_list[1:-1:2],*args).sum()\n",
    "    F_current = h*(S+2*T)\n",
    "\n",
    "    while error > accuracy:\n",
    "        F_last = F_current\n",
    "        #half step size\n",
    "        h /= 2\n",
    "        x_list = np.arange(start,stop+h,h)\n",
    "        \n",
    "        #adaptive simpson\n",
    "        S += T\n",
    "        T = (2/3)* f(x_list[1:-1:2],*args).sum()\n",
    "\n",
    "        F_current = h*(S+2*T)\n",
    "        \n",
    "        #check error\n",
    "        error = abs((1/15)*(F_current-F_last))\n",
    "    \n",
    "    return (F_last, error)"
   ]
  },
  {
   "cell_type": "code",
   "execution_count": null,
   "id": "occasional-button",
   "metadata": {
    "jupyter": {
     "source_hidden": true
    }
   },
   "outputs": [],
   "source": [
    "\"\"\"\n",
    "#test adaptive simpson\n",
    "def Gaussian(x,amp,mean,std_dev):\n",
    "    f = amp*np.exp(-1*((x - mean)**2/(2*std_dev**2))) \n",
    "    return f\n",
    "\n",
    "simps = adapt_simp(Gaussian, -10, 10, 0.0001, args = [1,0,1])\n",
    "print(simps)\n",
    "\n",
    "scipyIntegral = integrate.quad(Gaussian, -100.0, 100.0, args = (1,0,1))\n",
    "print(scipyIntegral)\n",
    "\"\"\""
   ]
  },
  {
   "cell_type": "code",
   "execution_count": null,
   "id": "direct-procedure",
   "metadata": {},
   "outputs": [],
   "source": [
    "k_B=1.38 * 10**(-23)\n",
    "Avogadro = 6.02 * 10**23.\n",
    "def integrant(x,a,b):\n",
    "    g=(x**a*np.exp(x))/(np.exp(x)-1)**b\n",
    "    return g\n",
    "\n",
    "def Debye(rho,V,molar_mass,theta_D,T_max,accuracy):\n",
    "    \"\"\"    \n",
    "    rho - density\n",
    "    V - volume\n",
    "    theta_D - Debye Temperature\n",
    "    T_max - Temperature upper limit\n",
    "    accu - required accuracy\n",
    "    return array of Temperature and Heat Capacity between T=0 and T_max\n",
    "    \"\"\"    \n",
    "    #initialize empty lists to store data\n",
    "    Cv_list=[]\n",
    "     \n",
    "    for T in T_list:\n",
    "        Cv=(rho*V)*9*k_B*(T/theta_D)**3*adapt_simp(integrant, 0.0001,(theta_D/T_max), accuracy,[4,2])[0]\n",
    "        Cv_list.append(Cv)\n",
    "    \n",
    "    return Cv_list"
   ]
  },
  {
   "cell_type": "code",
   "execution_count": null,
   "id": "deadly-grade",
   "metadata": {},
   "outputs": [],
   "source": [
    "density=10**-6\n",
    "T_max=2000\n",
    "T_list=np.arange(0,T_max,0.01)\n",
    "accuracy=0.001\n",
    "\n",
    "Pb_rho=11343\n",
    "Pb_molar_mass=207.2\n",
    "Pb_theta_D=105\n",
    "Pb_Debye=Debye(Pb_rho, density, Pb_theta_D, T_max, accuracy)\n",
    "plt.plot(T_list,Pb_Debye,label='Pb')\n",
    "\n",
    "#Al_Debye=Debye(2.7,1,428,2000,0.0000001)\n",
    "#diamond_Debye=Debye(3.51,1,2230,2000,0.0000001)\n",
    "#print(Pb_Debye)\n",
    "\n",
    "#plt.plot(Al_Debye,label='Al')\n",
    "#plt.plot(Diamond_Debye,label='Diamond')\n",
    "plt.show()\n",
    "print('1')"
   ]
  },
  {
   "cell_type": "code",
   "execution_count": null,
   "id": "dressed-gregory",
   "metadata": {},
   "outputs": [],
   "source": [
    "#General ODE solver with Runge-Kutta 4\n",
    "def RK4(f,t0,t_f,dt,x0):\n",
    "    \"\"\"\n",
    "    f - a function, takes 2 variables (t,x), RHS of ODE\n",
    "    t0 - lower limit of independent variable\n",
    "    t_f - upper limit of independent variable\n",
    "    dt - step size\n",
    "    x0 - initial value \n",
    "    return - array of t and x\n",
    "    \"\"\"\n",
    "    \n",
    "    # number of time steps, n must be an integer\n",
    "    n  = int(np.ceil((t_f-t0)/dt))\n",
    "    \n",
    "    # create empty lists to store values\n",
    "    x_list=np.zeros(n, np.longdouble)\n",
    "    t_list=np.zeros(Q_list.size)\n",
    "    \n",
    "    # set initial conditions at time zero\n",
    "    x_list[0] = x0\n",
    "    t_list[0] = t0\n",
    "    \n",
    "    # RK4\n",
    "    for ii in range(n-1):\n",
    "            k1 = dt*f(x_list[ii],t_list[ii])\n",
    "            k2 = dt*f(x_list[ii]+0.5*k1,t_list[ii]+dt/2)\n",
    "            k3 = dt*f(x_list[ii]+0.5*k2,t_list[ii]+dt/2)\n",
    "            k4 = dt*f(x_list[ii]+0.5*k3,t_list[ii]+dt/2)\n",
    "            \n",
    "            # update value of Q at each time step and step time by dt\n",
    "            x_list[ii+1]=x_list[ii]+(k1+2*k2+2*k3+k4)/6\n",
    "            t_list[ii+1]=t_list[ii]+dt\n",
    "            \n",
    "    return t_list, Q_list"
   ]
  },
  {
   "cell_type": "code",
   "execution_count": null,
   "id": "caroline-bracelet",
   "metadata": {},
   "outputs": [],
   "source": []
  }
 ],
 "metadata": {
  "kernelspec": {
   "display_name": "Python 3",
   "language": "python",
   "name": "phys1600"
  },
  "language_info": {
   "codemirror_mode": {
    "name": "ipython",
    "version": 3
   },
   "file_extension": ".py",
   "mimetype": "text/x-python",
   "name": "python",
   "nbconvert_exporter": "python",
   "pygments_lexer": "ipython3",
   "version": "3.8.6"
  }
 },
 "nbformat": 4,
 "nbformat_minor": 5
}
