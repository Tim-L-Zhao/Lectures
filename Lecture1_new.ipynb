{
 "cells": [
  {
   "cell_type": "markdown",
   "metadata": {},
   "source": [
    "# Lecture 1:  Numerical Integrals and Derivatives\n",
    "\n",
    "**Overview:**\n",
    "* Numerical integration.\n",
    "* Numerical derivatives.\n",
    "---"
   ]
  },
  {
   "cell_type": "code",
   "execution_count": 24,
   "metadata": {},
   "outputs": [],
   "source": [
    "import numpy as np\n",
    "import matplotlib.pyplot as plt\n",
    "from scipy import integrate  # MUST BE RUNNING PHYS 1600 kernel"
   ]
  },
  {
   "cell_type": "markdown",
   "metadata": {},
   "source": [
    "### Functions to integrate, and some exact results"
   ]
  },
  {
   "cell_type": "code",
   "execution_count": 25,
   "metadata": {},
   "outputs": [],
   "source": [
    "def Gaussian(x,amp,mean,std_dev):\n",
    "    \"\"\"\n",
    "    A Gaussian function,unnormalized\n",
    "    \"\"\"\n",
    "    f = amp*np.exp(-1*((x - mean)**2/(2*std_dev**2))) \n",
    "    return f\n",
    "\n",
    "def polynomial(x,*args):\n",
    "    \n",
    "    \"\"\"\n",
    "    A general polynomial the order of which is determined by the size\n",
    "    of the array of coefficients\n",
    "    Arguments:\n",
    "    x -- vector of x values\n",
    "    args -- an array of coeficients, the size of this array determines the order\n",
    "    of the polynomial\n",
    "    example: polynomial(x,2,3) will generate the line: f(x) = 2 + 3x\n",
    "    or \n",
    "    polynomial(x,1,0,0.1) will generate: f(x) = 1 +0.1*x^2, fixed conflicts\n",
    "    \"\"\"\n",
    "    f = 0*x\n",
    "    for (i,a) in enumerate(args):\n",
    "        f += a*x**(i)\n",
    "    \n",
    "    return f\n",
    "\n",
    "\n",
    "def Fermi(x):\n",
    "    \"\"\"\n",
    "    Define a function from physics that might give numerical integrators or differentiators\n",
    "    some trouble\n",
    "    \"\"\"\n",
    "    num = 1/np.sqrt(x)\n",
    "    den = np.exp(x)+1\n",
    "    return num/den\n",
    "\n",
    "\n",
    "# add white noise to a function\n",
    "def add_noise(A,f):\n",
    "    \"\"\"\n",
    "    Adds white (Gaussian distributed) noise to a function\n",
    "    \n",
    "    Arguments:\n",
    "    A -- width of the noise distribution, think of it like the amplitude of the noise\n",
    "    f - an array of values to add noise to, these represent some function \n",
    "    \"\"\"\n",
    "    \n",
    "    noise = np.random.normal(0,A,np.size(f))\n",
    "    \n",
    "    return f + noise\n",
    "\n",
    "def MODIFIED_function(x):\n",
    "    # there was something wrong, fix it\n",
    "    y = x + 44\n",
    "    return y\n",
    "    "
   ]
  },
  {
   "cell_type": "markdown",
   "metadata": {},
   "source": [
    "### Define a set of methods for taking numerical integrals. "
   ]
  },
  {
   "cell_type": "code",
   "execution_count": 26,
   "metadata": {},
   "outputs": [],
   "source": [
    "# Numerical Integration methods\n",
    "\n",
    "def riemannSum(f, start, stop, N, args = None):\n",
    "    \"\"\"\n",
    "    A simple riemann sum integrator\n",
    "    \n",
    "    Arguments:\n",
    "    f - A function to integrate, the function must take a single argument that is an independent\n",
    "    variable\n",
    "    start - lower limit of integral\n",
    "    stop - upper limit of integral\n",
    "    N - number of steps \n",
    "    \"\"\"\n",
    "    \n",
    "    range = stop - start\n",
    "    h = range/N\n",
    "    x = np.arange(start, stop+h, h)\n",
    "\n",
    "    return np.sum(f(x,*args)) * h\n",
    "\n",
    "def Simpson(f, start, stop, N, args = None):\n",
    "    \"\"\"\n",
    "    A simple Simpson's rule integrator\n",
    "    \n",
    "    Arguments:\n",
    "    f - A function to integrate, the function must take a single argument that is an independent\n",
    "    variable\n",
    "    start - lower limit of integral\n",
    "    stop - upper limit of integral\n",
    "    N - number of steps (must be an even number)\n",
    "    \"\"\"\n",
    "    \n",
    "    width = stop - start\n",
    "    h = width/N\n",
    "    x = np.arange(start, stop+h, h)\n",
    "    \n",
    "    s = f(start,*args) + f(stop,*args) \n",
    "    return (2*f(x[2:-2:2],*args).sum() + 4*f(x[1:-2:2],*args).sum()+s) * h/3\n",
    "\n",
    "\n",
    "def adaptive_trapz(f,start, stop, epsilon):\n",
    "    \"\"\"\n",
    "    Write an adaptive trapezoidal integrator here\n",
    "    \n",
    "    Arguments:\n",
    "    f - a function to integrate, the function must take a single argument \n",
    "    \"\"\"\n",
    "    \n",
    "    return \n"
   ]
  },
  {
   "cell_type": "markdown",
   "metadata": {},
   "source": [
    "### Define a set of methods for taking numerical derivatives."
   ]
  },
  {
   "cell_type": "code",
   "execution_count": 27,
   "metadata": {},
   "outputs": [],
   "source": [
    "#numerical derivatives\n",
    "\n",
    "def forward_diff(x,f):\n",
    "    \"\"\"\n",
    "    Take a derivative using the forward difference scheme\n",
    "    Arguments:\n",
    "    x - an array of independent values\n",
    "    f - an array of dependent values i.e y = f(x)\n",
    "    \"\"\"\n",
    "    d = (f[1:] - f[:-1])/np.diff(x)\n",
    "    return d\n",
    "    \n",
    "def backward_diff(x,f):\n",
    "    \"\"\"\n",
    "    Take a derivative using the backwards difference scheme\n",
    "    Arguments:\n",
    "    x - an array of independent values\n",
    "    f - an array of dependent values i.e y = f(x)\n",
    "    \"\"\"\n",
    "    d = (f[:-1] - f[1:])/np.diff(x)\n",
    "    return d\n",
    "\n",
    "# implement a central difference formula\n",
    "def central_diff(x,f):\n",
    "    d = 2+2\n",
    "    d = 1\n",
    "    return d"
   ]
  },
  {
   "cell_type": "markdown",
   "metadata": {},
   "source": [
    "### Tasks\n",
    "1. Use the `riemannSum` and `Simpsons` methods above to integrate some polynomical functions of various orders. Try playing around with different numbers of steps. Can you obtain machine precision? \n",
    "2. Examine the help file for `integrate.trapz`, `integrate.simps`. and `integrate.quad`. Try comparing these routines to those you write yourself.\n",
    "3. Write a method to perform an adaptive trapezoidal integral as discussed in the lectures. How does your method compare with scipy's `integrate.quad`? Can you obtain the same accuaracy? For a given accuarcy, what method is faster and/or what method requires more iterations?\n",
    "4. Try adding noise to a function and then integrating. How does the addition of noise affect the precision of the integral?\n",
    "5. Write a method to calculate numerical derivatives using central difference formulas. Compare the forward, backwards, and central difference methods for taking derivatives of various polynomials.\n",
    "6. Simulate some experimental data by generating a periodic function (sin, cos, etc) time series and adding noise. Then try taking the derivative of this data using forward, backward, and central difference methods. Find the step size values where forward/backward difference methods become more accurate than a central difference method by comparing your numerical derivatives with the analytical results."
   ]
  },
  {
   "cell_type": "markdown",
   "metadata": {},
   "source": [
    "### Example usage of some functions above"
   ]
  },
  {
   "cell_type": "code",
   "execution_count": 34,
   "metadata": {},
   "outputs": [
    {
     "data": {
      "text/plain": [
       "<matplotlib.legend.Legend at 0x7efde4f6ec70>"
      ]
     },
     "execution_count": 34,
     "metadata": {},
     "output_type": "execute_result"
    },
    {
     "data": {
      "image/png": "[encoded data removed]",
      "text/plain": [
       "<Figure size 432x288 with 1 Axes>"
      ]
     },
     "metadata": {
      "needs_background": "light"
     },
     "output_type": "display_data"
    }
   ],
   "source": [
    "# Generate array of x-values\n",
    "y = np.linspace(-10,10,1000)\n",
    "\n",
    "# Generate Gaussian function, add noise, and plot\n",
    "G = Gaussian(y, 1, 0,1)\n",
    "noisy_G = add_noise(0.1, G)\n",
    "plt.plot(x, noisy_G, label = \"Gaussian + white noise\")\n",
    "plt.plot(x, G, label = \"Gaussian\", lw = 2)\n",
    "plt.legend()"
   ]
  },
  {
   "cell_type": "code",
   "execution_count": 35,
   "metadata": {},
   "outputs": [
    {
     "name": "stdout",
     "output_type": "stream",
     "text": [
      "Exact integral =  2.5066282746310002\n",
      "SciPy Integral =  2.506628274631001 +/- 2.592038461839533e-12\n",
      "Reimann Sum =  2.506628274630965\n",
      "Simpson's rule =  2.5066282746309647\n"
     ]
    }
   ],
   "source": [
    "# using Scipy's built in integration schemes\n",
    "# integrate a Gaussian with mean=0, amplitude=1, and standard deviation of 1 \n",
    "# over a range of -100 to 100\n",
    "# there are many options and ouput arguments for this function\n",
    "scipyIntegral = integrate.quad(Gaussian, -100.0, 100.0, args = (1,0,1))\n",
    "rsum = riemannSum(Gaussian, -100, 100, 1000, args = (1,0,1))\n",
    "simps = Simpson(Gaussian, -100, 100, 1000, args = (1,0,1))\n",
    "# exact integral of a Gaussian: Amp 1, standard deviation = 1\n",
    "analyticalIntegral = np.sqrt(2*np.pi)\n",
    "\n",
    "# Integrate a gaussian\n",
    "print(\"Exact integral = \", analyticalIntegral)\n",
    "print(\"SciPy Integral = \", scipyIntegral[0], \"+/-\", scipyIntegral[1])\n",
    "print(\"Reimann Sum = \", rsum)\n",
    "print(\"Simpson's rule = \", simps)\n"
   ]
  },
  {
   "cell_type": "code",
   "execution_count": 16,
   "metadata": {},
   "outputs": [],
   "source": [
    "rsum = riemannSum(polynomial, 0, 100, 1000000, args = [0,1])"
   ]
  },
  {
   "cell_type": "code",
   "execution_count": 17,
   "metadata": {},
   "outputs": [
    {
     "name": "stdout",
     "output_type": "stream",
     "text": [
      "5000.005\n"
     ]
    }
   ],
   "source": [
    "print(rsum)"
   ]
  }
 ],
 "metadata": {
  "kernelspec": {
   "display_name": "Python 3",
   "language": "python",
   "name": "phys1600"
  },
  "language_info": {
   "codemirror_mode": {
    "name": "ipython",
    "version": 3
   },
   "file_extension": ".py",
   "mimetype": "text/x-python",
   "name": "python",
   "nbconvert_exporter": "python",
   "pygments_lexer": "ipython3",
   "version": "3.8.6"
  }
 },
 "nbformat": 4,
 "nbformat_minor": 4
}
