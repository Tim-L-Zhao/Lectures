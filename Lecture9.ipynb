{
 "cells": [
  {
   "cell_type": "markdown",
   "metadata": {},
   "source": [
    "# Lecture 8: The shooting method for BVP's\n",
    "\n",
    "**Overview:**\n",
    "* Root finding and boundary value problems.\n",
    "\n",
    "**Next Lecture:**\n",
    "* Shoot and Matching, 1D Schrodinger eqn.\n",
    "\n",
    "---"
   ]
  },
  {
   "cell_type": "markdown",
   "metadata": {},
   "source": [
    "### Tasks\n",
    "- How does the solution for the launch angle depend on the initial bracketing window for your search?\n",
    "- Can you extend this code to handle the case with air resistance? \n",
    "- Does the addition of air resistance result in new complications for the root finder?"
   ]
  },
  {
   "cell_type": "code",
   "execution_count": 1,
   "metadata": {},
   "outputs": [],
   "source": [
    "#%matplotlib notebook\n",
    "import numpy as np, matplotlib.pyplot as plt\n",
    "from numpy import pi\n",
    "import Particle3D as pt\n"
   ]
  },
  {
   "cell_type": "code",
   "execution_count": 2,
   "metadata": {},
   "outputs": [],
   "source": [
    "def bisect(f, bracket, target, v, Cd, tol = 1.e-6):\n",
    "    \"\"\" find the root of a function f using bisection\n",
    "    a and b are low and high bracket limits\n",
    "    v is a velocity\n",
    "    Cd is a drag coefficent \"\"\"\n",
    "    a = bracket[0]\n",
    "    b = bracket[1]\n",
    "    \n",
    "    fa = f(a,target, v, Cd)\n",
    "    fb = f(b,target, v, Cd)\n",
    "    gap  = abs(a - b)\n",
    "   \n",
    "    if fa == None :\n",
    "        return \n",
    "    if fb == None :\n",
    "        return\n",
    "    \n",
    "    if (fa*fb > 0.0):\n",
    "        print('Bisection error: no root bracketed')\n",
    "        return None\n",
    "    elif fa == 0.0: return a\n",
    "    elif fb == 0.0: return b\n",
    "\n",
    "    while(True):\n",
    "        xmid = 0.5*(a+b)\n",
    "        fmid = f(xmid, target, v, Cd)\n",
    "\n",
    "        if (fa*fmid > 0.0):\n",
    "            a, fa = xmid, fmid\n",
    "        else :b = xmid\n",
    "\n",
    "        if (fmid == 0.0 or abs (b-a) < tol*gap): break\n",
    "\n",
    "    return xmid\n",
    "\n",
    "# the root of ft give the total time to reach target\n",
    "def ft(t,target, V,Cd):\n",
    "    # when air resistance is included you must define another function \n",
    "    # to find tfo\n",
    "    \n",
    "    p = pt.Projectile(tf = t,z0 = 0, v0 = V[0], u0 = V[1], w0 = V[2], Cd = Cd) \n",
    "    for ii in range(p.npoints):\n",
    "        p.RK4_step()\n",
    "\n",
    "    return p.x[1] - target[0]\n",
    "\n",
    "# the root of fy is our solution\n",
    "def fy(theta, target, v0, Cd):\n",
    "    # only working in two dimensions (y,z) for now,.\n",
    "    V = [0, v0*np.cos(theta), v0*np.sin(theta)]\n",
    "    \n",
    "    # if there is no drag, tf is easy to calculate analytically\n",
    "    # with drag we must integrate and use a root finder to locate tf\n",
    "    \n",
    "    tf = target[0]/V[1]\n",
    "\n",
    "    # check if we can make the range\n",
    "    if tf == None:\n",
    "        print('Initial velocity will not cover range')\n",
    "        return \n",
    "    \n",
    "    nsteps = 100\n",
    "    dt = tf/nsteps\n",
    "    p = pt.Projectile(tf = tf, z0 = 0, v0 = V[0], u0 = V[1], w0 = V[2], dt = dt, Cd = Cd) \n",
    "    for ii in range(nsteps):\n",
    "        p.RK4_step()\n",
    "    \n",
    "    print(\"y(tf) = \", p.x[2])\n",
    "    return p.x[2] - target[1] \n",
    "    "
   ]
  },
  {
   "cell_type": "markdown",
   "metadata": {},
   "source": [
    "* Change parameters and find launch angle below"
   ]
  },
  {
   "cell_type": "code",
   "execution_count": 3,
   "metadata": {},
   "outputs": [
    {
     "name": "stdout",
     "output_type": "stream",
     "text": [
      "y(tf) =  -8.530314205675715\n",
      "y(tf) =  7.591112916007275\n",
      "y(tf) =  -0.35919053346408597\n",
      "y(tf) =  3.602574889302433\n",
      "y(tf) =  5.589216158859221\n",
      "y(tf) =  6.587787377605089\n",
      "y(tf) =  6.087962729999499\n",
      "y(tf) =  5.838461926369919\n",
      "y(tf) =  5.963179529491385\n",
      "y(tf) =  6.025562816372227\n",
      "y(tf) =  5.994369108746668\n",
      "y(tf) =  6.009965444739979\n",
      "y(tf) =  6.002167147509892\n",
      "y(tf) =  5.9982680958476475\n",
      "y(tf) =  6.000217613605159\n",
      "y(tf) =  5.999242852708405\n",
      "y(tf) =  5.9997302326522215\n",
      "y(tf) =  5.999973923002543\n",
      "y(tf) =  6.000095768272315\n",
      "y(tf) =  6.000034845629551\n",
      "y(tf) =  6.000004384314089\n",
      "y(tf) =  5.999989153657798\n",
      "theta =  25.861243062728196\n"
     ]
    },
    {
     "data": {
      "image/png": "[encoded data removed]",
      "text/plain": [
       "<Figure size 432x288 with 1 Axes>"
      ]
     },
     "metadata": {
      "needs_background": "light"
     },
     "output_type": "display_data"
    }
   ],
   "source": [
    "v0 = 26 #initial launch speed\n",
    "xb = 35 # x coordinate of target\n",
    "yb = 6 # y coordinate of target\n",
    "Cd = 0.00 # drag coefficient, you must edit ft and fy above to work for non-zero Cd\n",
    "\n",
    "theta_bracket = [0.01,0.5] # in radians\n",
    "\n",
    "# find the launch angle\n",
    "# it would be more efficient to first check if we bracket the root before trying a full\n",
    "# bisection search\n",
    "theta = None\n",
    "while not theta:\n",
    "    theta = bisect(fy, theta_bracket, [xb, yb], v0, Cd)\n",
    "    \n",
    "    if not theta:\n",
    "        print(\"Increasing launch speed by 1 %\\n\")\n",
    "        v0=v0*1.01\n",
    "\n",
    "# only make a plot if we can hit our target\n",
    "if (theta != None):\n",
    "    print(\"theta = \", theta*180/pi)\n",
    "    # max time for plotting purposes\n",
    "    t_max = xb/(v0*np.cos(theta))\n",
    "\n",
    "    fig = plt.figure()\n",
    "    ax = fig.add_subplot(111)\n",
    "    \n",
    "    # plot the trajectory\n",
    "    V = [0, v0*np.cos(theta), v0*np.sin(theta)]\n",
    "    p = pt.Projectile(tf = t_max*2,  z0 = 0, u0 = V[0], v0 = V[1], w0 = V[2], dt = 0.001, Cd = Cd) \n",
    "    p.scipy_trajectory()\n",
    "    ax.plot(p.xv[:,1], p.xv[:,2], lw = 2, label = '$v_0$ = {:.2f}, $\\\\theta$ = {:.1f}'.format(v0,theta*180/np.pi))\n",
    "\n",
    "    # plot the target position\n",
    "    ax.vlines(xb, 0 , yb)\n",
    "    ax.plot(xb, yb, marker ='o', ls = 'None', color = 'r', label = 'Target')\n",
    "    \n",
    "    \n",
    "    ax.set_xlabel('x (m)')\n",
    "    ax.set_ylabel('y (m)')\n",
    "    ax.legend()\n",
    "    plt.show()"
   ]
  },
  {
   "cell_type": "code",
   "execution_count": null,
   "metadata": {},
   "outputs": [],
   "source": []
  }
 ],
 "metadata": {
  "kernelspec": {
   "display_name": "Python 3",
   "language": "python",
   "name": "phys1600"
  },
  "language_info": {
   "codemirror_mode": {
    "name": "ipython",
    "version": 3
   },
   "file_extension": ".py",
   "mimetype": "text/x-python",
   "name": "python",
   "nbconvert_exporter": "python",
   "pygments_lexer": "ipython3",
   "version": "3.8.6"
  }
 },
 "nbformat": 4,
 "nbformat_minor": 4
}
